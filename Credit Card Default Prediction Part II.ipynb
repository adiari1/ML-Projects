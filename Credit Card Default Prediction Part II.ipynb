{
 "cells": [
  {
   "cell_type": "markdown",
   "metadata": {},
   "source": [
    "## Predicting Credit Card Default Part II"
   ]
  },
  {
   "cell_type": "markdown",
   "metadata": {},
   "source": [
    "**Table of Content**\n",
    "- Introduction\n",
    "- Importing the Libraries\n",
    "- Data Preprocessing and Exploration\n",
    "- Building the Algorithms\n",
    "- Running GridSearch/RandomSearch (Random Forest, Support Vector Machine, Logistic Regression, Decision Tree, K-Nearesr Neigbnbor, Naive Bayes, Ada Boost, Gradient Boosting, Bagging, Stacking, Artificial Neural Network)\n",
    "- Feature Selection using Step Forward Feature Selection\n",
    "- Features Importance and Analysis\n",
    "- Analysis of Coefficients\n",
    "- Predicting Probabilities of Default of a Single borrower and Class (X_test)"
   ]
  },
  {
   "cell_type": "markdown",
   "metadata": {},
   "source": [
    "### Introduction"
   ]
  },
  {
   "cell_type": "markdown",
   "metadata": {},
   "source": [
    "This is a continuation of Part I. Link to Part I can be found here [Part I](https://github.com/adiari1/ML-Projects/blob/master/Credit%20Card%20Default%20Prediction%20Part%20I.ipynb)\n",
    "\n",
    "This project seeks to accurately predict credit card default in the next period (next month). The dataset comprises credit card information of Taiwanese credit card holders and downloaded from UCI Machine Learning Repository. The dependent variable is a categorical variable, assigned 1 if there is default and 0 if no default. Details of the description of the dataset and attributes can be found on UCI website [UCI](https://archive.ics.uci.edu/ml/datasets/default+of+credit+card+clients)"
   ]
  },
  {
   "cell_type": "markdown",
   "metadata": {},
   "source": [
    "## Importing the Libraries"
   ]
  },
  {
   "cell_type": "code",
   "execution_count": 1,
   "metadata": {},
   "outputs": [],
   "source": [
    "import numpy as np\n",
    "import pandas as pd\n",
    "import matplotlib.pyplot as plt\n",
    "%matplotlib inline\n",
    "import math\n",
    "import seaborn as sns\n",
    "import sys\n",
    "import warnings\n",
    "if not sys.warnoptions:\n",
    "    warnings.simplefilter(\"ignore\")\n",
    "from sklearn.model_selection import train_test_split\n",
    "from sklearn.preprocessing import StandardScaler\n",
    "from sklearn.metrics import roc_curve, auc, confusion_matrix, classification_report,accuracy_score\n",
    "import scikitplot as skplt\n",
    "from sklearn.metrics import *\n",
    "from sklearn.metrics import confusion_matrix\n",
    "from sklearn.metrics import classification_report\n",
    "from sklearn.linear_model import LogisticRegression\n",
    "from sklearn.model_selection import RandomizedSearchCV\n",
    "from sklearn.model_selection import cross_val_score\n",
    "from sklearn.tree import DecisionTreeClassifier\n",
    "from sklearn.neighbors import KNeighborsClassifier\n",
    "from sklearn.naive_bayes import GaussianNB\n",
    "from sklearn.svm import SVC\n",
    "from sklearn.model_selection import KFold\n",
    "from sklearn import preprocessing, metrics\n",
    "from sklearn.ensemble import BaggingClassifier\n",
    "from sklearn.ensemble import AdaBoostClassifier\n",
    "from sklearn.ensemble import RandomForestClassifier\n",
    "from sklearn.ensemble import GradientBoostingClassifier\n",
    "from xgboost import XGBClassifier\n",
    "from mlxtend.classifier import StackingClassifier\n",
    "from sklearn.model_selection import GridSearchCV\n",
    "import scikitplot as skplt\n",
    "from sklearn.feature_selection import SelectKBest\n",
    "from sklearn.feature_selection import SelectFromModel"
   ]
  },
  {
   "cell_type": "markdown",
   "metadata": {},
   "source": [
    "## Data Preprocessing and Exploration"
   ]
  },
  {
   "cell_type": "code",
   "execution_count": 2,
   "metadata": {},
   "outputs": [],
   "source": [
    "data = pd.read_csv('default of credit card clients.csv', skiprows=1)"
   ]
  },
  {
   "cell_type": "code",
   "execution_count": 3,
   "metadata": {},
   "outputs": [
    {
     "data": {
      "text/html": [
       "<div>\n",
       "<style scoped>\n",
       "    .dataframe tbody tr th:only-of-type {\n",
       "        vertical-align: middle;\n",
       "    }\n",
       "\n",
       "    .dataframe tbody tr th {\n",
       "        vertical-align: top;\n",
       "    }\n",
       "\n",
       "    .dataframe thead th {\n",
       "        text-align: right;\n",
       "    }\n",
       "</style>\n",
       "<table border=\"1\" class=\"dataframe\">\n",
       "  <thead>\n",
       "    <tr style=\"text-align: right;\">\n",
       "      <th></th>\n",
       "      <th>ID</th>\n",
       "      <th>LIMIT_BAL</th>\n",
       "      <th>SEX</th>\n",
       "      <th>EDUCATION</th>\n",
       "      <th>MARRIAGE</th>\n",
       "      <th>AGE</th>\n",
       "      <th>PAY_0</th>\n",
       "      <th>PAY_2</th>\n",
       "      <th>PAY_3</th>\n",
       "      <th>PAY_4</th>\n",
       "      <th>...</th>\n",
       "      <th>BILL_AMT4</th>\n",
       "      <th>BILL_AMT5</th>\n",
       "      <th>BILL_AMT6</th>\n",
       "      <th>PAY_AMT1</th>\n",
       "      <th>PAY_AMT2</th>\n",
       "      <th>PAY_AMT3</th>\n",
       "      <th>PAY_AMT4</th>\n",
       "      <th>PAY_AMT5</th>\n",
       "      <th>PAY_AMT6</th>\n",
       "      <th>default payment next month</th>\n",
       "    </tr>\n",
       "  </thead>\n",
       "  <tbody>\n",
       "    <tr>\n",
       "      <th>0</th>\n",
       "      <td>1</td>\n",
       "      <td>20000</td>\n",
       "      <td>2</td>\n",
       "      <td>2</td>\n",
       "      <td>1</td>\n",
       "      <td>24</td>\n",
       "      <td>2</td>\n",
       "      <td>2</td>\n",
       "      <td>-1</td>\n",
       "      <td>-1</td>\n",
       "      <td>...</td>\n",
       "      <td>0</td>\n",
       "      <td>0</td>\n",
       "      <td>0</td>\n",
       "      <td>0</td>\n",
       "      <td>689</td>\n",
       "      <td>0</td>\n",
       "      <td>0</td>\n",
       "      <td>0</td>\n",
       "      <td>0</td>\n",
       "      <td>1</td>\n",
       "    </tr>\n",
       "    <tr>\n",
       "      <th>1</th>\n",
       "      <td>2</td>\n",
       "      <td>120000</td>\n",
       "      <td>2</td>\n",
       "      <td>2</td>\n",
       "      <td>2</td>\n",
       "      <td>26</td>\n",
       "      <td>-1</td>\n",
       "      <td>2</td>\n",
       "      <td>0</td>\n",
       "      <td>0</td>\n",
       "      <td>...</td>\n",
       "      <td>3272</td>\n",
       "      <td>3455</td>\n",
       "      <td>3261</td>\n",
       "      <td>0</td>\n",
       "      <td>1000</td>\n",
       "      <td>1000</td>\n",
       "      <td>1000</td>\n",
       "      <td>0</td>\n",
       "      <td>2000</td>\n",
       "      <td>1</td>\n",
       "    </tr>\n",
       "    <tr>\n",
       "      <th>2</th>\n",
       "      <td>3</td>\n",
       "      <td>90000</td>\n",
       "      <td>2</td>\n",
       "      <td>2</td>\n",
       "      <td>2</td>\n",
       "      <td>34</td>\n",
       "      <td>0</td>\n",
       "      <td>0</td>\n",
       "      <td>0</td>\n",
       "      <td>0</td>\n",
       "      <td>...</td>\n",
       "      <td>14331</td>\n",
       "      <td>14948</td>\n",
       "      <td>15549</td>\n",
       "      <td>1518</td>\n",
       "      <td>1500</td>\n",
       "      <td>1000</td>\n",
       "      <td>1000</td>\n",
       "      <td>1000</td>\n",
       "      <td>5000</td>\n",
       "      <td>0</td>\n",
       "    </tr>\n",
       "    <tr>\n",
       "      <th>3</th>\n",
       "      <td>4</td>\n",
       "      <td>50000</td>\n",
       "      <td>2</td>\n",
       "      <td>2</td>\n",
       "      <td>1</td>\n",
       "      <td>37</td>\n",
       "      <td>0</td>\n",
       "      <td>0</td>\n",
       "      <td>0</td>\n",
       "      <td>0</td>\n",
       "      <td>...</td>\n",
       "      <td>28314</td>\n",
       "      <td>28959</td>\n",
       "      <td>29547</td>\n",
       "      <td>2000</td>\n",
       "      <td>2019</td>\n",
       "      <td>1200</td>\n",
       "      <td>1100</td>\n",
       "      <td>1069</td>\n",
       "      <td>1000</td>\n",
       "      <td>0</td>\n",
       "    </tr>\n",
       "    <tr>\n",
       "      <th>4</th>\n",
       "      <td>5</td>\n",
       "      <td>50000</td>\n",
       "      <td>1</td>\n",
       "      <td>2</td>\n",
       "      <td>1</td>\n",
       "      <td>57</td>\n",
       "      <td>-1</td>\n",
       "      <td>0</td>\n",
       "      <td>-1</td>\n",
       "      <td>0</td>\n",
       "      <td>...</td>\n",
       "      <td>20940</td>\n",
       "      <td>19146</td>\n",
       "      <td>19131</td>\n",
       "      <td>2000</td>\n",
       "      <td>36681</td>\n",
       "      <td>10000</td>\n",
       "      <td>9000</td>\n",
       "      <td>689</td>\n",
       "      <td>679</td>\n",
       "      <td>0</td>\n",
       "    </tr>\n",
       "  </tbody>\n",
       "</table>\n",
       "<p>5 rows × 25 columns</p>\n",
       "</div>"
      ],
      "text/plain": [
       "   ID  LIMIT_BAL  SEX  EDUCATION  MARRIAGE  AGE  PAY_0  PAY_2  PAY_3  PAY_4  \\\n",
       "0   1      20000    2          2         1   24      2      2     -1     -1   \n",
       "1   2     120000    2          2         2   26     -1      2      0      0   \n",
       "2   3      90000    2          2         2   34      0      0      0      0   \n",
       "3   4      50000    2          2         1   37      0      0      0      0   \n",
       "4   5      50000    1          2         1   57     -1      0     -1      0   \n",
       "\n",
       "              ...              BILL_AMT4  BILL_AMT5  BILL_AMT6  PAY_AMT1  \\\n",
       "0             ...                      0          0          0         0   \n",
       "1             ...                   3272       3455       3261         0   \n",
       "2             ...                  14331      14948      15549      1518   \n",
       "3             ...                  28314      28959      29547      2000   \n",
       "4             ...                  20940      19146      19131      2000   \n",
       "\n",
       "   PAY_AMT2  PAY_AMT3  PAY_AMT4  PAY_AMT5  PAY_AMT6  \\\n",
       "0       689         0         0         0         0   \n",
       "1      1000      1000      1000         0      2000   \n",
       "2      1500      1000      1000      1000      5000   \n",
       "3      2019      1200      1100      1069      1000   \n",
       "4     36681     10000      9000       689       679   \n",
       "\n",
       "   default payment next month  \n",
       "0                           1  \n",
       "1                           1  \n",
       "2                           0  \n",
       "3                           0  \n",
       "4                           0  \n",
       "\n",
       "[5 rows x 25 columns]"
      ]
     },
     "execution_count": 3,
     "metadata": {},
     "output_type": "execute_result"
    }
   ],
   "source": [
    "data.head()"
   ]
  },
  {
   "cell_type": "code",
   "execution_count": 4,
   "metadata": {},
   "outputs": [
    {
     "data": {
      "text/html": [
       "<div>\n",
       "<style scoped>\n",
       "    .dataframe tbody tr th:only-of-type {\n",
       "        vertical-align: middle;\n",
       "    }\n",
       "\n",
       "    .dataframe tbody tr th {\n",
       "        vertical-align: top;\n",
       "    }\n",
       "\n",
       "    .dataframe thead th {\n",
       "        text-align: right;\n",
       "    }\n",
       "</style>\n",
       "<table border=\"1\" class=\"dataframe\">\n",
       "  <thead>\n",
       "    <tr style=\"text-align: right;\">\n",
       "      <th></th>\n",
       "      <th>ID</th>\n",
       "      <th>LIMIT_BAL</th>\n",
       "      <th>SEX</th>\n",
       "      <th>EDUCATION</th>\n",
       "      <th>MARRIAGE</th>\n",
       "      <th>AGE</th>\n",
       "      <th>PAY_0</th>\n",
       "      <th>PAY_2</th>\n",
       "      <th>PAY_3</th>\n",
       "      <th>PAY_4</th>\n",
       "      <th>...</th>\n",
       "      <th>BILL_AMT4</th>\n",
       "      <th>BILL_AMT5</th>\n",
       "      <th>BILL_AMT6</th>\n",
       "      <th>PAY_AMT1</th>\n",
       "      <th>PAY_AMT2</th>\n",
       "      <th>PAY_AMT3</th>\n",
       "      <th>PAY_AMT4</th>\n",
       "      <th>PAY_AMT5</th>\n",
       "      <th>PAY_AMT6</th>\n",
       "      <th>default payment next month</th>\n",
       "    </tr>\n",
       "  </thead>\n",
       "  <tbody>\n",
       "    <tr>\n",
       "      <th>count</th>\n",
       "      <td>30000.000000</td>\n",
       "      <td>30000.000000</td>\n",
       "      <td>30000.000000</td>\n",
       "      <td>30000.000000</td>\n",
       "      <td>30000.000000</td>\n",
       "      <td>30000.000000</td>\n",
       "      <td>30000.000000</td>\n",
       "      <td>30000.000000</td>\n",
       "      <td>30000.000000</td>\n",
       "      <td>30000.000000</td>\n",
       "      <td>...</td>\n",
       "      <td>30000.000000</td>\n",
       "      <td>30000.000000</td>\n",
       "      <td>30000.000000</td>\n",
       "      <td>30000.000000</td>\n",
       "      <td>3.000000e+04</td>\n",
       "      <td>30000.00000</td>\n",
       "      <td>30000.000000</td>\n",
       "      <td>30000.000000</td>\n",
       "      <td>30000.000000</td>\n",
       "      <td>30000.000000</td>\n",
       "    </tr>\n",
       "    <tr>\n",
       "      <th>mean</th>\n",
       "      <td>15000.500000</td>\n",
       "      <td>167484.322667</td>\n",
       "      <td>1.603733</td>\n",
       "      <td>1.853133</td>\n",
       "      <td>1.551867</td>\n",
       "      <td>35.485500</td>\n",
       "      <td>-0.016700</td>\n",
       "      <td>-0.133767</td>\n",
       "      <td>-0.166200</td>\n",
       "      <td>-0.220667</td>\n",
       "      <td>...</td>\n",
       "      <td>43262.948967</td>\n",
       "      <td>40311.400967</td>\n",
       "      <td>38871.760400</td>\n",
       "      <td>5663.580500</td>\n",
       "      <td>5.921163e+03</td>\n",
       "      <td>5225.68150</td>\n",
       "      <td>4826.076867</td>\n",
       "      <td>4799.387633</td>\n",
       "      <td>5215.502567</td>\n",
       "      <td>0.221200</td>\n",
       "    </tr>\n",
       "    <tr>\n",
       "      <th>std</th>\n",
       "      <td>8660.398374</td>\n",
       "      <td>129747.661567</td>\n",
       "      <td>0.489129</td>\n",
       "      <td>0.790349</td>\n",
       "      <td>0.521970</td>\n",
       "      <td>9.217904</td>\n",
       "      <td>1.123802</td>\n",
       "      <td>1.197186</td>\n",
       "      <td>1.196868</td>\n",
       "      <td>1.169139</td>\n",
       "      <td>...</td>\n",
       "      <td>64332.856134</td>\n",
       "      <td>60797.155770</td>\n",
       "      <td>59554.107537</td>\n",
       "      <td>16563.280354</td>\n",
       "      <td>2.304087e+04</td>\n",
       "      <td>17606.96147</td>\n",
       "      <td>15666.159744</td>\n",
       "      <td>15278.305679</td>\n",
       "      <td>17777.465775</td>\n",
       "      <td>0.415062</td>\n",
       "    </tr>\n",
       "    <tr>\n",
       "      <th>min</th>\n",
       "      <td>1.000000</td>\n",
       "      <td>10000.000000</td>\n",
       "      <td>1.000000</td>\n",
       "      <td>0.000000</td>\n",
       "      <td>0.000000</td>\n",
       "      <td>21.000000</td>\n",
       "      <td>-2.000000</td>\n",
       "      <td>-2.000000</td>\n",
       "      <td>-2.000000</td>\n",
       "      <td>-2.000000</td>\n",
       "      <td>...</td>\n",
       "      <td>-170000.000000</td>\n",
       "      <td>-81334.000000</td>\n",
       "      <td>-339603.000000</td>\n",
       "      <td>0.000000</td>\n",
       "      <td>0.000000e+00</td>\n",
       "      <td>0.00000</td>\n",
       "      <td>0.000000</td>\n",
       "      <td>0.000000</td>\n",
       "      <td>0.000000</td>\n",
       "      <td>0.000000</td>\n",
       "    </tr>\n",
       "    <tr>\n",
       "      <th>25%</th>\n",
       "      <td>7500.750000</td>\n",
       "      <td>50000.000000</td>\n",
       "      <td>1.000000</td>\n",
       "      <td>1.000000</td>\n",
       "      <td>1.000000</td>\n",
       "      <td>28.000000</td>\n",
       "      <td>-1.000000</td>\n",
       "      <td>-1.000000</td>\n",
       "      <td>-1.000000</td>\n",
       "      <td>-1.000000</td>\n",
       "      <td>...</td>\n",
       "      <td>2326.750000</td>\n",
       "      <td>1763.000000</td>\n",
       "      <td>1256.000000</td>\n",
       "      <td>1000.000000</td>\n",
       "      <td>8.330000e+02</td>\n",
       "      <td>390.00000</td>\n",
       "      <td>296.000000</td>\n",
       "      <td>252.500000</td>\n",
       "      <td>117.750000</td>\n",
       "      <td>0.000000</td>\n",
       "    </tr>\n",
       "    <tr>\n",
       "      <th>50%</th>\n",
       "      <td>15000.500000</td>\n",
       "      <td>140000.000000</td>\n",
       "      <td>2.000000</td>\n",
       "      <td>2.000000</td>\n",
       "      <td>2.000000</td>\n",
       "      <td>34.000000</td>\n",
       "      <td>0.000000</td>\n",
       "      <td>0.000000</td>\n",
       "      <td>0.000000</td>\n",
       "      <td>0.000000</td>\n",
       "      <td>...</td>\n",
       "      <td>19052.000000</td>\n",
       "      <td>18104.500000</td>\n",
       "      <td>17071.000000</td>\n",
       "      <td>2100.000000</td>\n",
       "      <td>2.009000e+03</td>\n",
       "      <td>1800.00000</td>\n",
       "      <td>1500.000000</td>\n",
       "      <td>1500.000000</td>\n",
       "      <td>1500.000000</td>\n",
       "      <td>0.000000</td>\n",
       "    </tr>\n",
       "    <tr>\n",
       "      <th>75%</th>\n",
       "      <td>22500.250000</td>\n",
       "      <td>240000.000000</td>\n",
       "      <td>2.000000</td>\n",
       "      <td>2.000000</td>\n",
       "      <td>2.000000</td>\n",
       "      <td>41.000000</td>\n",
       "      <td>0.000000</td>\n",
       "      <td>0.000000</td>\n",
       "      <td>0.000000</td>\n",
       "      <td>0.000000</td>\n",
       "      <td>...</td>\n",
       "      <td>54506.000000</td>\n",
       "      <td>50190.500000</td>\n",
       "      <td>49198.250000</td>\n",
       "      <td>5006.000000</td>\n",
       "      <td>5.000000e+03</td>\n",
       "      <td>4505.00000</td>\n",
       "      <td>4013.250000</td>\n",
       "      <td>4031.500000</td>\n",
       "      <td>4000.000000</td>\n",
       "      <td>0.000000</td>\n",
       "    </tr>\n",
       "    <tr>\n",
       "      <th>max</th>\n",
       "      <td>30000.000000</td>\n",
       "      <td>1000000.000000</td>\n",
       "      <td>2.000000</td>\n",
       "      <td>6.000000</td>\n",
       "      <td>3.000000</td>\n",
       "      <td>79.000000</td>\n",
       "      <td>8.000000</td>\n",
       "      <td>8.000000</td>\n",
       "      <td>8.000000</td>\n",
       "      <td>8.000000</td>\n",
       "      <td>...</td>\n",
       "      <td>891586.000000</td>\n",
       "      <td>927171.000000</td>\n",
       "      <td>961664.000000</td>\n",
       "      <td>873552.000000</td>\n",
       "      <td>1.684259e+06</td>\n",
       "      <td>896040.00000</td>\n",
       "      <td>621000.000000</td>\n",
       "      <td>426529.000000</td>\n",
       "      <td>528666.000000</td>\n",
       "      <td>1.000000</td>\n",
       "    </tr>\n",
       "  </tbody>\n",
       "</table>\n",
       "<p>8 rows × 25 columns</p>\n",
       "</div>"
      ],
      "text/plain": [
       "                 ID       LIMIT_BAL           SEX     EDUCATION      MARRIAGE  \\\n",
       "count  30000.000000    30000.000000  30000.000000  30000.000000  30000.000000   \n",
       "mean   15000.500000   167484.322667      1.603733      1.853133      1.551867   \n",
       "std     8660.398374   129747.661567      0.489129      0.790349      0.521970   \n",
       "min        1.000000    10000.000000      1.000000      0.000000      0.000000   \n",
       "25%     7500.750000    50000.000000      1.000000      1.000000      1.000000   \n",
       "50%    15000.500000   140000.000000      2.000000      2.000000      2.000000   \n",
       "75%    22500.250000   240000.000000      2.000000      2.000000      2.000000   \n",
       "max    30000.000000  1000000.000000      2.000000      6.000000      3.000000   \n",
       "\n",
       "                AGE         PAY_0         PAY_2         PAY_3         PAY_4  \\\n",
       "count  30000.000000  30000.000000  30000.000000  30000.000000  30000.000000   \n",
       "mean      35.485500     -0.016700     -0.133767     -0.166200     -0.220667   \n",
       "std        9.217904      1.123802      1.197186      1.196868      1.169139   \n",
       "min       21.000000     -2.000000     -2.000000     -2.000000     -2.000000   \n",
       "25%       28.000000     -1.000000     -1.000000     -1.000000     -1.000000   \n",
       "50%       34.000000      0.000000      0.000000      0.000000      0.000000   \n",
       "75%       41.000000      0.000000      0.000000      0.000000      0.000000   \n",
       "max       79.000000      8.000000      8.000000      8.000000      8.000000   \n",
       "\n",
       "                  ...                  BILL_AMT4      BILL_AMT5  \\\n",
       "count             ...               30000.000000   30000.000000   \n",
       "mean              ...               43262.948967   40311.400967   \n",
       "std               ...               64332.856134   60797.155770   \n",
       "min               ...             -170000.000000  -81334.000000   \n",
       "25%               ...                2326.750000    1763.000000   \n",
       "50%               ...               19052.000000   18104.500000   \n",
       "75%               ...               54506.000000   50190.500000   \n",
       "max               ...              891586.000000  927171.000000   \n",
       "\n",
       "           BILL_AMT6       PAY_AMT1      PAY_AMT2      PAY_AMT3  \\\n",
       "count   30000.000000   30000.000000  3.000000e+04   30000.00000   \n",
       "mean    38871.760400    5663.580500  5.921163e+03    5225.68150   \n",
       "std     59554.107537   16563.280354  2.304087e+04   17606.96147   \n",
       "min   -339603.000000       0.000000  0.000000e+00       0.00000   \n",
       "25%      1256.000000    1000.000000  8.330000e+02     390.00000   \n",
       "50%     17071.000000    2100.000000  2.009000e+03    1800.00000   \n",
       "75%     49198.250000    5006.000000  5.000000e+03    4505.00000   \n",
       "max    961664.000000  873552.000000  1.684259e+06  896040.00000   \n",
       "\n",
       "            PAY_AMT4       PAY_AMT5       PAY_AMT6  default payment next month  \n",
       "count   30000.000000   30000.000000   30000.000000                30000.000000  \n",
       "mean     4826.076867    4799.387633    5215.502567                    0.221200  \n",
       "std     15666.159744   15278.305679   17777.465775                    0.415062  \n",
       "min         0.000000       0.000000       0.000000                    0.000000  \n",
       "25%       296.000000     252.500000     117.750000                    0.000000  \n",
       "50%      1500.000000    1500.000000    1500.000000                    0.000000  \n",
       "75%      4013.250000    4031.500000    4000.000000                    0.000000  \n",
       "max    621000.000000  426529.000000  528666.000000                    1.000000  \n",
       "\n",
       "[8 rows x 25 columns]"
      ]
     },
     "execution_count": 4,
     "metadata": {},
     "output_type": "execute_result"
    }
   ],
   "source": [
    "data.describe()"
   ]
  },
  {
   "cell_type": "code",
   "execution_count": 5,
   "metadata": {},
   "outputs": [],
   "source": [
    "data = data.drop([\"ID\"],axis=1)"
   ]
  },
  {
   "cell_type": "code",
   "execution_count": 6,
   "metadata": {},
   "outputs": [
    {
     "data": {
      "text/html": [
       "<div>\n",
       "<style scoped>\n",
       "    .dataframe tbody tr th:only-of-type {\n",
       "        vertical-align: middle;\n",
       "    }\n",
       "\n",
       "    .dataframe tbody tr th {\n",
       "        vertical-align: top;\n",
       "    }\n",
       "\n",
       "    .dataframe thead th {\n",
       "        text-align: right;\n",
       "    }\n",
       "</style>\n",
       "<table border=\"1\" class=\"dataframe\">\n",
       "  <thead>\n",
       "    <tr style=\"text-align: right;\">\n",
       "      <th></th>\n",
       "      <th>LIMIT_BAL</th>\n",
       "      <th>SEX</th>\n",
       "      <th>EDUCATION</th>\n",
       "      <th>MARRIAGE</th>\n",
       "      <th>AGE</th>\n",
       "      <th>PAY_0</th>\n",
       "      <th>PAY_2</th>\n",
       "      <th>PAY_3</th>\n",
       "      <th>PAY_4</th>\n",
       "      <th>PAY_5</th>\n",
       "      <th>...</th>\n",
       "      <th>BILL_AMT4</th>\n",
       "      <th>BILL_AMT5</th>\n",
       "      <th>BILL_AMT6</th>\n",
       "      <th>PAY_AMT1</th>\n",
       "      <th>PAY_AMT2</th>\n",
       "      <th>PAY_AMT3</th>\n",
       "      <th>PAY_AMT4</th>\n",
       "      <th>PAY_AMT5</th>\n",
       "      <th>PAY_AMT6</th>\n",
       "      <th>default payment next month</th>\n",
       "    </tr>\n",
       "  </thead>\n",
       "  <tbody>\n",
       "    <tr>\n",
       "      <th>0</th>\n",
       "      <td>20000</td>\n",
       "      <td>2</td>\n",
       "      <td>2</td>\n",
       "      <td>1</td>\n",
       "      <td>24</td>\n",
       "      <td>2</td>\n",
       "      <td>2</td>\n",
       "      <td>-1</td>\n",
       "      <td>-1</td>\n",
       "      <td>-2</td>\n",
       "      <td>...</td>\n",
       "      <td>0</td>\n",
       "      <td>0</td>\n",
       "      <td>0</td>\n",
       "      <td>0</td>\n",
       "      <td>689</td>\n",
       "      <td>0</td>\n",
       "      <td>0</td>\n",
       "      <td>0</td>\n",
       "      <td>0</td>\n",
       "      <td>1</td>\n",
       "    </tr>\n",
       "    <tr>\n",
       "      <th>1</th>\n",
       "      <td>120000</td>\n",
       "      <td>2</td>\n",
       "      <td>2</td>\n",
       "      <td>2</td>\n",
       "      <td>26</td>\n",
       "      <td>-1</td>\n",
       "      <td>2</td>\n",
       "      <td>0</td>\n",
       "      <td>0</td>\n",
       "      <td>0</td>\n",
       "      <td>...</td>\n",
       "      <td>3272</td>\n",
       "      <td>3455</td>\n",
       "      <td>3261</td>\n",
       "      <td>0</td>\n",
       "      <td>1000</td>\n",
       "      <td>1000</td>\n",
       "      <td>1000</td>\n",
       "      <td>0</td>\n",
       "      <td>2000</td>\n",
       "      <td>1</td>\n",
       "    </tr>\n",
       "    <tr>\n",
       "      <th>2</th>\n",
       "      <td>90000</td>\n",
       "      <td>2</td>\n",
       "      <td>2</td>\n",
       "      <td>2</td>\n",
       "      <td>34</td>\n",
       "      <td>0</td>\n",
       "      <td>0</td>\n",
       "      <td>0</td>\n",
       "      <td>0</td>\n",
       "      <td>0</td>\n",
       "      <td>...</td>\n",
       "      <td>14331</td>\n",
       "      <td>14948</td>\n",
       "      <td>15549</td>\n",
       "      <td>1518</td>\n",
       "      <td>1500</td>\n",
       "      <td>1000</td>\n",
       "      <td>1000</td>\n",
       "      <td>1000</td>\n",
       "      <td>5000</td>\n",
       "      <td>0</td>\n",
       "    </tr>\n",
       "    <tr>\n",
       "      <th>3</th>\n",
       "      <td>50000</td>\n",
       "      <td>2</td>\n",
       "      <td>2</td>\n",
       "      <td>1</td>\n",
       "      <td>37</td>\n",
       "      <td>0</td>\n",
       "      <td>0</td>\n",
       "      <td>0</td>\n",
       "      <td>0</td>\n",
       "      <td>0</td>\n",
       "      <td>...</td>\n",
       "      <td>28314</td>\n",
       "      <td>28959</td>\n",
       "      <td>29547</td>\n",
       "      <td>2000</td>\n",
       "      <td>2019</td>\n",
       "      <td>1200</td>\n",
       "      <td>1100</td>\n",
       "      <td>1069</td>\n",
       "      <td>1000</td>\n",
       "      <td>0</td>\n",
       "    </tr>\n",
       "    <tr>\n",
       "      <th>4</th>\n",
       "      <td>50000</td>\n",
       "      <td>1</td>\n",
       "      <td>2</td>\n",
       "      <td>1</td>\n",
       "      <td>57</td>\n",
       "      <td>-1</td>\n",
       "      <td>0</td>\n",
       "      <td>-1</td>\n",
       "      <td>0</td>\n",
       "      <td>0</td>\n",
       "      <td>...</td>\n",
       "      <td>20940</td>\n",
       "      <td>19146</td>\n",
       "      <td>19131</td>\n",
       "      <td>2000</td>\n",
       "      <td>36681</td>\n",
       "      <td>10000</td>\n",
       "      <td>9000</td>\n",
       "      <td>689</td>\n",
       "      <td>679</td>\n",
       "      <td>0</td>\n",
       "    </tr>\n",
       "  </tbody>\n",
       "</table>\n",
       "<p>5 rows × 24 columns</p>\n",
       "</div>"
      ],
      "text/plain": [
       "   LIMIT_BAL  SEX  EDUCATION  MARRIAGE  AGE  PAY_0  PAY_2  PAY_3  PAY_4  \\\n",
       "0      20000    2          2         1   24      2      2     -1     -1   \n",
       "1     120000    2          2         2   26     -1      2      0      0   \n",
       "2      90000    2          2         2   34      0      0      0      0   \n",
       "3      50000    2          2         1   37      0      0      0      0   \n",
       "4      50000    1          2         1   57     -1      0     -1      0   \n",
       "\n",
       "   PAY_5             ...              BILL_AMT4  BILL_AMT5  BILL_AMT6  \\\n",
       "0     -2             ...                      0          0          0   \n",
       "1      0             ...                   3272       3455       3261   \n",
       "2      0             ...                  14331      14948      15549   \n",
       "3      0             ...                  28314      28959      29547   \n",
       "4      0             ...                  20940      19146      19131   \n",
       "\n",
       "   PAY_AMT1  PAY_AMT2  PAY_AMT3  PAY_AMT4  PAY_AMT5  PAY_AMT6  \\\n",
       "0         0       689         0         0         0         0   \n",
       "1         0      1000      1000      1000         0      2000   \n",
       "2      1518      1500      1000      1000      1000      5000   \n",
       "3      2000      2019      1200      1100      1069      1000   \n",
       "4      2000     36681     10000      9000       689       679   \n",
       "\n",
       "   default payment next month  \n",
       "0                           1  \n",
       "1                           1  \n",
       "2                           0  \n",
       "3                           0  \n",
       "4                           0  \n",
       "\n",
       "[5 rows x 24 columns]"
      ]
     },
     "execution_count": 6,
     "metadata": {},
     "output_type": "execute_result"
    }
   ],
   "source": [
    "data.head()"
   ]
  },
  {
   "cell_type": "code",
   "execution_count": 7,
   "metadata": {
    "scrolled": true
   },
   "outputs": [
    {
     "data": {
      "image/png": "[encoded data removed]",
      "text/plain": [
       "<Figure size 1152x576 with 2 Axes>"
      ]
     },
     "metadata": {},
     "output_type": "display_data"
    }
   ],
   "source": [
    "plt.rcParams['figure.figsize']=(16,8)\n",
    "plt.style.use('ggplot')\n",
    "cormat = data.corr()\n",
    "sns.heatmap(cormat, square=True);"
   ]
  },
  {
   "cell_type": "code",
   "execution_count": 8,
   "metadata": {},
   "outputs": [
    {
     "data": {
      "text/plain": [
       "<matplotlib.axes._subplots.AxesSubplot at 0x234e420dcc0>"
      ]
     },
     "execution_count": 8,
     "metadata": {},
     "output_type": "execute_result"
    },
    {
     "data": {
      "image/png": "[encoded data removed]",
      "text/plain": [
       "<Figure size 576x432 with 1 Axes>"
      ]
     },
     "metadata": {},
     "output_type": "display_data"
    }
   ],
   "source": [
    "# Checking for Data Distribution and imbalanced data\n",
    "data[[\"default payment next month\"]].plot(kind=\"hist\",figsize=(8,6))"
   ]
  },
  {
   "cell_type": "code",
   "execution_count": 9,
   "metadata": {},
   "outputs": [],
   "source": [
    "X = data.iloc[:,:-1]\n",
    "y = data.iloc[:,-1]"
   ]
  },
  {
   "cell_type": "code",
   "execution_count": 10,
   "metadata": {},
   "outputs": [],
   "source": [
    "from imblearn.over_sampling import RandomOverSampler\n",
    "ros = RandomOverSampler(random_state=0)\n",
    "X_resampled, y_resampled = ros.fit_resample(X, y)\n",
    "from collections import Counter"
   ]
  },
  {
   "cell_type": "code",
   "execution_count": 11,
   "metadata": {},
   "outputs": [
    {
     "name": "stdout",
     "output_type": "stream",
     "text": [
      "[(0, 23364), (1, 23364)]\n"
     ]
    }
   ],
   "source": [
    "print(sorted(Counter(y_resampled).items()))"
   ]
  },
  {
   "cell_type": "code",
   "execution_count": 12,
   "metadata": {},
   "outputs": [
    {
     "data": {
      "text/plain": [
       "((46728, 23), (46728,))"
      ]
     },
     "execution_count": 12,
     "metadata": {},
     "output_type": "execute_result"
    }
   ],
   "source": [
    "X_resampled.shape, y_resampled.shape"
   ]
  },
  {
   "cell_type": "code",
   "execution_count": 13,
   "metadata": {},
   "outputs": [],
   "source": [
    "X_train, X_test, y_train, y_test = train_test_split(X_resampled, y_resampled, test_size=0.25, random_state=123)"
   ]
  },
  {
   "cell_type": "code",
   "execution_count": 14,
   "metadata": {},
   "outputs": [
    {
     "data": {
      "text/plain": [
       "((35046, 23), (11682, 23), (35046,), (11682,))"
      ]
     },
     "execution_count": 14,
     "metadata": {},
     "output_type": "execute_result"
    }
   ],
   "source": [
    "X_train.shape, X_test.shape, y_train.shape, y_test.shape"
   ]
  },
  {
   "cell_type": "markdown",
   "metadata": {},
   "source": [
    "### Scaling the Features"
   ]
  },
  {
   "cell_type": "code",
   "execution_count": 15,
   "metadata": {},
   "outputs": [],
   "source": [
    "scaler = StandardScaler()\n",
    "X_train = scaler.fit_transform(X_train)\n",
    "X_test = scaler.transform(X_test)"
   ]
  },
  {
   "cell_type": "markdown",
   "metadata": {},
   "source": [
    "## Building the Algorithms"
   ]
  },
  {
   "cell_type": "code",
   "execution_count": 22,
   "metadata": {},
   "outputs": [],
   "source": [
    "clf1 = KNeighborsClassifier()\n",
    "clf2 = RandomForestClassifier(random_state=1)\n",
    "clf3 = GaussianNB()\n",
    "lr = LogisticRegression()\n",
    "sclf = StackingClassifier(classifiers=[clf1, clf2, clf3],meta_classifier=lr, use_features_in_secondary=True)"
   ]
  },
  {
   "cell_type": "code",
   "execution_count": 23,
   "metadata": {},
   "outputs": [],
   "source": [
    "# Dictionary of different classifiers\n",
    "clfs = {\n",
    "'LogisticRegression' : LogisticRegression(),\n",
    "'DecisionTree': DecisionTreeClassifier(),\n",
    "'KNNClassifier': KNeighborsClassifier(),\n",
    "'NaiveBayes': GaussianNB(),\n",
    "'SupportVectorMachines': SVC(kernel=\"rbf\"),\n",
    "'Bagging': BaggingClassifier(),\n",
    "'AdaBoostClassifier': AdaBoostClassifier(),\n",
    "'RandomForestClassifier': RandomForestClassifier(),\n",
    "'GradientBoostingClassifier': GradientBoostingClassifier(),\n",
    "'XGBoost': XGBClassifier(),\n",
    "'StackingClassifier': StackingClassifier(classifiers=[clf1, clf2, clf3],meta_classifier=lr, use_features_in_secondary=True)\n",
    "}"
   ]
  },
  {
   "cell_type": "code",
   "execution_count": 24,
   "metadata": {},
   "outputs": [
    {
     "data": {
      "text/html": [
       "<div>\n",
       "<style scoped>\n",
       "    .dataframe tbody tr th:only-of-type {\n",
       "        vertical-align: middle;\n",
       "    }\n",
       "\n",
       "    .dataframe tbody tr th {\n",
       "        vertical-align: top;\n",
       "    }\n",
       "\n",
       "    .dataframe thead th {\n",
       "        text-align: right;\n",
       "    }\n",
       "</style>\n",
       "<table border=\"1\" class=\"dataframe\">\n",
       "  <thead>\n",
       "    <tr style=\"text-align: right;\">\n",
       "      <th></th>\n",
       "      <th>Model</th>\n",
       "      <th>Accuracy</th>\n",
       "      <th>Precision_score</th>\n",
       "      <th>Recall_score</th>\n",
       "      <th>F1_score</th>\n",
       "      <th>AUC</th>\n",
       "    </tr>\n",
       "  </thead>\n",
       "  <tbody>\n",
       "    <tr>\n",
       "      <th>0</th>\n",
       "      <td>LogisticRegression</td>\n",
       "      <td>0.671888</td>\n",
       "      <td>0.693843</td>\n",
       "      <td>0.629166</td>\n",
       "      <td>0.659924</td>\n",
       "      <td>0.672407</td>\n",
       "    </tr>\n",
       "    <tr>\n",
       "      <th>1</th>\n",
       "      <td>DecisionTree</td>\n",
       "      <td>0.876562</td>\n",
       "      <td>0.825113</td>\n",
       "      <td>0.959398</td>\n",
       "      <td>0.887203</td>\n",
       "      <td>0.875557</td>\n",
       "    </tr>\n",
       "    <tr>\n",
       "      <th>2</th>\n",
       "      <td>KNNClassifier</td>\n",
       "      <td>0.743366</td>\n",
       "      <td>0.715045</td>\n",
       "      <td>0.819320</td>\n",
       "      <td>0.763639</td>\n",
       "      <td>0.742445</td>\n",
       "    </tr>\n",
       "    <tr>\n",
       "      <th>3</th>\n",
       "      <td>NaiveBayes</td>\n",
       "      <td>0.604349</td>\n",
       "      <td>0.576571</td>\n",
       "      <td>0.821012</td>\n",
       "      <td>0.677415</td>\n",
       "      <td>0.601721</td>\n",
       "    </tr>\n",
       "    <tr>\n",
       "      <th>4</th>\n",
       "      <td>SupportVectorMachines</td>\n",
       "      <td>0.719569</td>\n",
       "      <td>0.796667</td>\n",
       "      <td>0.598545</td>\n",
       "      <td>0.683539</td>\n",
       "      <td>0.721037</td>\n",
       "    </tr>\n",
       "    <tr>\n",
       "      <th>5</th>\n",
       "      <td>Bagging</td>\n",
       "      <td>0.918250</td>\n",
       "      <td>0.894837</td>\n",
       "      <td>0.950093</td>\n",
       "      <td>0.921638</td>\n",
       "      <td>0.917864</td>\n",
       "    </tr>\n",
       "    <tr>\n",
       "      <th>6</th>\n",
       "      <td>AdaBoostClassifier</td>\n",
       "      <td>0.704503</td>\n",
       "      <td>0.762433</td>\n",
       "      <td>0.604297</td>\n",
       "      <td>0.674217</td>\n",
       "      <td>0.705718</td>\n",
       "    </tr>\n",
       "    <tr>\n",
       "      <th>7</th>\n",
       "      <td>RandomForestClassifier</td>\n",
       "      <td>0.920305</td>\n",
       "      <td>0.898018</td>\n",
       "      <td>0.950431</td>\n",
       "      <td>0.923482</td>\n",
       "      <td>0.919939</td>\n",
       "    </tr>\n",
       "    <tr>\n",
       "      <th>8</th>\n",
       "      <td>GradientBoostingClassifier</td>\n",
       "      <td>0.723849</td>\n",
       "      <td>0.772257</td>\n",
       "      <td>0.644223</td>\n",
       "      <td>0.702453</td>\n",
       "      <td>0.724814</td>\n",
       "    </tr>\n",
       "    <tr>\n",
       "      <th>9</th>\n",
       "      <td>XGBoost</td>\n",
       "      <td>0.723677</td>\n",
       "      <td>0.771394</td>\n",
       "      <td>0.645069</td>\n",
       "      <td>0.702598</td>\n",
       "      <td>0.724631</td>\n",
       "    </tr>\n",
       "    <tr>\n",
       "      <th>10</th>\n",
       "      <td>StackingClassifier</td>\n",
       "      <td>0.920305</td>\n",
       "      <td>0.899807</td>\n",
       "      <td>0.948063</td>\n",
       "      <td>0.923305</td>\n",
       "      <td>0.919968</td>\n",
       "    </tr>\n",
       "  </tbody>\n",
       "</table>\n",
       "</div>"
      ],
      "text/plain": [
       "                         Model  Accuracy  Precision_score  Recall_score  \\\n",
       "0           LogisticRegression  0.671888         0.693843      0.629166   \n",
       "1                 DecisionTree  0.876562         0.825113      0.959398   \n",
       "2                KNNClassifier  0.743366         0.715045      0.819320   \n",
       "3                   NaiveBayes  0.604349         0.576571      0.821012   \n",
       "4        SupportVectorMachines  0.719569         0.796667      0.598545   \n",
       "5                      Bagging  0.918250         0.894837      0.950093   \n",
       "6           AdaBoostClassifier  0.704503         0.762433      0.604297   \n",
       "7       RandomForestClassifier  0.920305         0.898018      0.950431   \n",
       "8   GradientBoostingClassifier  0.723849         0.772257      0.644223   \n",
       "9                      XGBoost  0.723677         0.771394      0.645069   \n",
       "10          StackingClassifier  0.920305         0.899807      0.948063   \n",
       "\n",
       "    F1_score       AUC  \n",
       "0   0.659924  0.672407  \n",
       "1   0.887203  0.875557  \n",
       "2   0.763639  0.742445  \n",
       "3   0.677415  0.601721  \n",
       "4   0.683539  0.721037  \n",
       "5   0.921638  0.917864  \n",
       "6   0.674217  0.705718  \n",
       "7   0.923482  0.919939  \n",
       "8   0.702453  0.724814  \n",
       "9   0.702598  0.724631  \n",
       "10  0.923305  0.919968  "
      ]
     },
     "execution_count": 24,
     "metadata": {},
     "output_type": "execute_result"
    }
   ],
   "source": [
    "# Testing all clfs models and generating a report\n",
    "models_report = pd.DataFrame(columns = ['Model', 'Accuracy','Precision_score', 'Recall_score','F1_score', 'AUC'])\n",
    "\n",
    "for clf, clf_name in zip(clfs.values(), clfs.keys()):\n",
    "    clf.fit(X_train,y_train)\n",
    "    y_pred = clf.predict(X_test)\n",
    "    y_score = clf.score(X_test,y_test)\n",
    "    \n",
    "    #print('Calculating {}'.format(clf_name))\n",
    "    t = pd.Series({ \n",
    "                     'Model': clf_name,\n",
    "                     'Precision_score': metrics.precision_score(y_test, y_pred),\n",
    "                     'Recall_score': metrics.recall_score(y_test, y_pred),\n",
    "                     'F1_score': metrics.f1_score(y_test, y_pred),\n",
    "                     'Accuracy': metrics.accuracy_score(y_test, y_pred),\n",
    "                     'AUC': metrics.roc_auc_score(y_test, y_pred)}\n",
    "                   )\n",
    "\n",
    "    models_report = models_report.append(t, ignore_index = True)\n",
    "\n",
    "models_report"
   ]
  },
  {
   "cell_type": "markdown",
   "metadata": {},
   "source": [
    "- Performance improvements observed after boosting the undersampled class through resampling\n",
    "- Also, performance across the algorithms witnessed significant improvements after tuning the hyperparameters (see below) \n",
    "- Pls note RandomizedSearchCV was substituted for GridSearchCV in some of the algorithms because the latter is more computationally expensive and took extremely a very long time for some of the algorithms."
   ]
  },
  {
   "cell_type": "markdown",
   "metadata": {},
   "source": [
    "## Running GridSearch/RandomSearch"
   ]
  },
  {
   "cell_type": "markdown",
   "metadata": {},
   "source": [
    "### Random Forest"
   ]
  },
  {
   "cell_type": "code",
   "execution_count": 25,
   "metadata": {},
   "outputs": [],
   "source": [
    "rf = RandomForestClassifier()\n",
    "rf_params = {'n_estimators': np.arange(50,500,50)}\n",
    "rf_grid = RandomizedSearchCV(rf, param_distributions=rf_params, refit=True)\n",
    "rf_grid.fit(X_train, y_train)\n",
    "y_pred_rf = rf_grid.predict(X_test)\n",
    "#svm_nested_score = cross_val_score(svm_grid, X, y, cv=3)"
   ]
  },
  {
   "cell_type": "code",
   "execution_count": 26,
   "metadata": {},
   "outputs": [
    {
     "name": "stdout",
     "output_type": "stream",
     "text": [
      "Accuracy Score is 0.932974\n",
      "Precision Score is 0.909192\n",
      "Recall Score is 0.963796\n",
      "F1_score is 0.935698\n",
      "AUC Score is 0.932600\n"
     ]
    },
    {
     "data": {
      "text/plain": [
       "{'n_estimators': 400}"
      ]
     },
     "execution_count": 26,
     "metadata": {},
     "output_type": "execute_result"
    }
   ],
   "source": [
    "print(\"Accuracy Score is {0:6f}\".format(metrics.accuracy_score(y_test, y_pred_rf)))\n",
    "print(\"Precision Score is {0:6f}\".format(metrics.precision_score(y_test, y_pred_rf)))\n",
    "print(\"Recall Score is {0:6f}\".format(metrics.recall_score(y_test, y_pred_rf)))\n",
    "print(\"F1_score is {0:6f}\".format(metrics.f1_score(y_test, y_pred_rf)))\n",
    "print(\"AUC Score is {0:6f}\".format(metrics.roc_auc_score(y_test, y_pred_rf)))\n",
    "rf_grid.best_params_"
   ]
  },
  {
   "cell_type": "code",
   "execution_count": 27,
   "metadata": {},
   "outputs": [
    {
     "name": "stdout",
     "output_type": "stream",
     "text": [
      "              precision    recall  f1-score   support\n",
      "\n",
      "           0       0.96      0.90      0.93      5771\n",
      "           1       0.91      0.96      0.94      5911\n",
      "\n",
      "   micro avg       0.93      0.93      0.93     11682\n",
      "   macro avg       0.93      0.93      0.93     11682\n",
      "weighted avg       0.93      0.93      0.93     11682\n",
      "\n"
     ]
    }
   ],
   "source": [
    "print(classification_report(y_test, y_pred_rf))"
   ]
  },
  {
   "cell_type": "code",
   "execution_count": 28,
   "metadata": {},
   "outputs": [
    {
     "name": "stdout",
     "output_type": "stream",
     "text": [
      "[[5202  569]\n",
      " [ 214 5697]]\n"
     ]
    }
   ],
   "source": [
    "print(confusion_matrix(y_test, y_pred_rf))"
   ]
  },
  {
   "cell_type": "code",
   "execution_count": 29,
   "metadata": {},
   "outputs": [
    {
     "name": "stdout",
     "output_type": "stream",
     "text": [
      "Best params:  {'n_estimators': 400}\n",
      "Best Param Score:  0.8936825885978429\n",
      "Best Accuracy on Test set:  0.9329738058551618\n"
     ]
    }
   ],
   "source": [
    "print ('Best params: ', rf_grid.best_params_)\n",
    "print ('Best Param Score: ', rf_grid.best_score_)\n",
    "print ('Best Accuracy on Test set: ', rf_grid.score(X_test, y_test))"
   ]
  },
  {
   "cell_type": "code",
   "execution_count": 32,
   "metadata": {},
   "outputs": [
    {
     "data": {
      "image/png": "[encoded data removed]",
      "text/plain": [
       "<Figure size 576x432 with 1 Axes>"
      ]
     },
     "metadata": {},
     "output_type": "display_data"
    },
    {
     "data": {
      "image/png": "[encoded data removed]",
      "text/plain": [
       "<Figure size 576x432 with 1 Axes>"
      ]
     },
     "metadata": {},
     "output_type": "display_data"
    }
   ],
   "source": [
    "rf = RandomForestClassifier(n_estimators=450)\n",
    "rf = rf.fit(X_train, y_train)\n",
    "y_probas = rf.predict_proba(X_test)\n",
    "skplt.metrics.plot_roc(y_test, y_probas, plot_micro=False, plot_macro=False,figsize=(8,6))\n",
    "\n",
    "rf = RandomForestClassifier(n_estimators=450)\n",
    "rf = rf.fit(X_train, y_train)\n",
    "y_probas = rf.predict_proba(X_test)\n",
    "skplt.metrics.plot_lift_curve(y_test, y_probas,figsize=(8,6))\n",
    "\n",
    "plt.show()"
   ]
  },
  {
   "cell_type": "markdown",
   "metadata": {},
   "source": [
    "### Support Vector Machines"
   ]
  },
  {
   "cell_type": "code",
   "execution_count": 33,
   "metadata": {},
   "outputs": [],
   "source": [
    "svm = SVC(kernel='rbf')\n",
    "svm_params = {'C': [0.1,100,1000], 'gamma':[0.001,0.01,10]}\n",
    "#svm_grid = GridSearchCV(svm, svm_params, cv=5)\n",
    "svm_grid = RandomizedSearchCV(svm, param_distributions=svm_params, refit=True, cv=3)\n",
    "svm_grid.fit(X_train, y_train)\n",
    "y_pred_svm = svm_grid.predict(X_test)"
   ]
  },
  {
   "cell_type": "code",
   "execution_count": 34,
   "metadata": {},
   "outputs": [
    {
     "name": "stdout",
     "output_type": "stream",
     "text": [
      "Accuracy Score is 0.944359\n",
      "Precision Score is 0.952209\n",
      "Recall Score is 0.937066\n",
      "F1_score is 0.944577\n",
      "AUC Score is 0.944447\n"
     ]
    },
    {
     "data": {
      "text/plain": [
       "{'gamma': 10, 'C': 1000}"
      ]
     },
     "execution_count": 34,
     "metadata": {},
     "output_type": "execute_result"
    }
   ],
   "source": [
    "print(\"Accuracy Score is {0:6f}\".format(metrics.accuracy_score(y_test, y_pred_svm)))\n",
    "print(\"Precision Score is {0:6f}\".format(metrics.precision_score(y_test, y_pred_svm)))\n",
    "print(\"Recall Score is {0:6f}\".format(metrics.recall_score(y_test, y_pred_svm)))\n",
    "print(\"F1_score is {0:6f}\".format(metrics.f1_score(y_test, y_pred_svm)))\n",
    "print(\"AUC Score is {0:6f}\".format(metrics.roc_auc_score(y_test, y_pred_svm)))\n",
    "svm_grid.best_params_"
   ]
  },
  {
   "cell_type": "code",
   "execution_count": 35,
   "metadata": {},
   "outputs": [
    {
     "name": "stdout",
     "output_type": "stream",
     "text": [
      "[[5493  278]\n",
      " [ 372 5539]]\n"
     ]
    }
   ],
   "source": [
    "print(confusion_matrix(y_test, y_pred_svm))"
   ]
  },
  {
   "cell_type": "code",
   "execution_count": 123,
   "metadata": {},
   "outputs": [
    {
     "name": "stdout",
     "output_type": "stream",
     "text": [
      "              precision    recall  f1-score   support\n",
      "\n",
      "           0       0.94      0.95      0.94      5771\n",
      "           1       0.95      0.94      0.94      5911\n",
      "\n",
      "   micro avg       0.94      0.94      0.94     11682\n",
      "   macro avg       0.94      0.94      0.94     11682\n",
      "weighted avg       0.94      0.94      0.94     11682\n",
      "\n"
     ]
    }
   ],
   "source": [
    "print(classification_report(y_test, y_pred_svm))"
   ]
  },
  {
   "cell_type": "code",
   "execution_count": 36,
   "metadata": {},
   "outputs": [
    {
     "data": {
      "image/png": "[encoded data removed]",
      "text/plain": [
       "<Figure size 576x432 with 1 Axes>"
      ]
     },
     "metadata": {},
     "output_type": "display_data"
    },
    {
     "data": {
      "image/png": "[encoded data removed]",
      "text/plain": [
       "<Figure size 576x432 with 1 Axes>"
      ]
     },
     "metadata": {},
     "output_type": "display_data"
    }
   ],
   "source": [
    "svm = SVC(kernel='rbf',gamma=10, C=1000, probability=True)\n",
    "svm = svm.fit(X_train, y_train)\n",
    "y_probas = svm.predict_proba(X_test)\n",
    "skplt.metrics.plot_roc(y_test, y_probas, plot_micro=False, plot_macro=False,figsize=(8,6))\n",
    "\n",
    "svm = SVC(kernel='rbf',gamma=10, C=1000, probability=True)\n",
    "svm = svm.fit(X_train, y_train)\n",
    "y_probas = svm.predict_proba(X_test)\n",
    "skplt.metrics.plot_lift_curve(y_test, y_probas,figsize=(8,6))\n",
    "\n",
    "plt.show()"
   ]
  },
  {
   "cell_type": "markdown",
   "metadata": {},
   "source": [
    "### Logistic Regression"
   ]
  },
  {
   "cell_type": "code",
   "execution_count": 37,
   "metadata": {},
   "outputs": [],
   "source": [
    "lr = LogisticRegression()\n",
    "lr_params = {'C': [0.1, 10.0, 100, 1000]}\n",
    "lr_grid = GridSearchCV(lr, lr_params, cv=5)\n",
    "lr_grid.fit(X_train, y_train)\n",
    "y_pred_lr = lr_grid.predict(X_test)\n",
    "lr_nested_score = cross_val_score(lr_grid, X, y, cv=5)"
   ]
  },
  {
   "cell_type": "code",
   "execution_count": 38,
   "metadata": {},
   "outputs": [
    {
     "name": "stdout",
     "output_type": "stream",
     "text": [
      "Accuracy Score is 0.671888\n",
      "Precision Score is 0.693843\n",
      "Recall Score is 0.629166\n",
      "F1_score is 0.659924\n",
      "AUC Score is 0.672407\n"
     ]
    },
    {
     "data": {
      "text/plain": [
       "{'C': 10.0}"
      ]
     },
     "execution_count": 38,
     "metadata": {},
     "output_type": "execute_result"
    }
   ],
   "source": [
    "print(\"Accuracy Score is {0:6f}\".format(metrics.accuracy_score(y_test, y_pred_lr)))\n",
    "print(\"Precision Score is {0:6f}\".format(metrics.precision_score(y_test, y_pred_lr)))\n",
    "print(\"Recall Score is {0:6f}\".format(metrics.recall_score(y_test, y_pred_lr)))\n",
    "print(\"F1_score is {0:6f}\".format(metrics.f1_score(y_test, y_pred_lr)))\n",
    "print(\"AUC Score is {0:6f}\".format(metrics.roc_auc_score(y_test, y_pred_lr)))\n",
    "lr_grid.best_params_"
   ]
  },
  {
   "cell_type": "code",
   "execution_count": 39,
   "metadata": {},
   "outputs": [
    {
     "name": "stdout",
     "output_type": "stream",
     "text": [
      "mean of 0.778767 with std. dev. of 0.000116.\n"
     ]
    }
   ],
   "source": [
    "print(\"mean of {0:6f} with std. dev. of {1:6f}.\".format(lr_nested_score.mean(), lr_nested_score.std()))"
   ]
  },
  {
   "cell_type": "code",
   "execution_count": 40,
   "metadata": {},
   "outputs": [
    {
     "name": "stdout",
     "output_type": "stream",
     "text": [
      "[[4130 1641]\n",
      " [2192 3719]]\n"
     ]
    }
   ],
   "source": [
    "print(confusion_matrix(y_test, y_pred_lr))"
   ]
  },
  {
   "cell_type": "code",
   "execution_count": 124,
   "metadata": {},
   "outputs": [
    {
     "name": "stdout",
     "output_type": "stream",
     "text": [
      "              precision    recall  f1-score   support\n",
      "\n",
      "           0       0.65      0.72      0.68      5771\n",
      "           1       0.69      0.63      0.66      5911\n",
      "\n",
      "   micro avg       0.67      0.67      0.67     11682\n",
      "   macro avg       0.67      0.67      0.67     11682\n",
      "weighted avg       0.67      0.67      0.67     11682\n",
      "\n"
     ]
    }
   ],
   "source": [
    "print(classification_report(y_test, y_pred_lr))"
   ]
  },
  {
   "cell_type": "code",
   "execution_count": 41,
   "metadata": {},
   "outputs": [
    {
     "data": {
      "image/png": "[encoded data removed]",
      "text/plain": [
       "<Figure size 576x432 with 1 Axes>"
      ]
     },
     "metadata": {},
     "output_type": "display_data"
    },
    {
     "data": {
      "image/png": "[encoded data removed]",
      "text/plain": [
       "<Figure size 576x432 with 1 Axes>"
      ]
     },
     "metadata": {},
     "output_type": "display_data"
    }
   ],
   "source": [
    "lr = LogisticRegression(C=10)\n",
    "lr = lr.fit(X_train, y_train)\n",
    "y_probas = lr.predict_proba(X_test)\n",
    "skplt.metrics.plot_roc(y_test, y_probas, plot_micro=False, plot_macro=False,figsize=(8,6))\n",
    "\n",
    "lr = LogisticRegression(C=10)\n",
    "lr = lr.fit(X_train, y_train)\n",
    "y_probas = lr.predict_proba(X_test)\n",
    "skplt.metrics.plot_lift_curve(y_test, y_probas,figsize=(8,6))\n",
    "\n",
    "plt.show()"
   ]
  },
  {
   "cell_type": "markdown",
   "metadata": {},
   "source": [
    "### Decision Tree"
   ]
  },
  {
   "cell_type": "code",
   "execution_count": 42,
   "metadata": {},
   "outputs": [],
   "source": [
    "dt = DecisionTreeClassifier()\n",
    "dt_params = {'max_depth': np.arange(3,9,1),'min_samples_split':np.arange(2,9,1),'min_samples_leaf':np.arange(1,9,1)}\n",
    "dt_grid = GridSearchCV(dt, dt_params, cv=5)\n",
    "dt_grid.fit(X_train, y_train)\n",
    "y_pred_dt = dt_grid.predict(X_test)\n",
    "dt_nested_score = cross_val_score(dt_grid, X, y, cv=5)"
   ]
  },
  {
   "cell_type": "code",
   "execution_count": 43,
   "metadata": {},
   "outputs": [
    {
     "name": "stdout",
     "output_type": "stream",
     "text": [
      "Accuracy Score is 0.720339\n",
      "Precision Score is 0.759827\n",
      "Recall Score is 0.654035\n",
      "F1_score is 0.702973\n",
      "AUC Score is 0.721143\n"
     ]
    },
    {
     "data": {
      "text/plain": [
       "{'max_depth': 8, 'min_samples_leaf': 1, 'min_samples_split': 4}"
      ]
     },
     "execution_count": 43,
     "metadata": {},
     "output_type": "execute_result"
    }
   ],
   "source": [
    "print(\"Accuracy Score is {0:6f}\".format(metrics.accuracy_score(y_test, y_pred_dt)))\n",
    "print(\"Precision Score is {0:6f}\".format(metrics.precision_score(y_test, y_pred_dt)))\n",
    "print(\"Recall Score is {0:6f}\".format(metrics.recall_score(y_test, y_pred_dt)))\n",
    "print(\"F1_score is {0:6f}\".format(metrics.f1_score(y_test, y_pred_dt)))\n",
    "print(\"AUC Score is {0:6f}\".format(metrics.roc_auc_score(y_test, y_pred_dt)))\n",
    "dt_grid.best_params_"
   ]
  },
  {
   "cell_type": "code",
   "execution_count": 44,
   "metadata": {},
   "outputs": [
    {
     "name": "stdout",
     "output_type": "stream",
     "text": [
      "mean of 0.820334 with std. dev. of 0.008682.\n"
     ]
    }
   ],
   "source": [
    "print(\"mean of {0:6f} with std. dev. of {1:6f}.\".format(dt_nested_score.mean(), dt_nested_score.std()))"
   ]
  },
  {
   "cell_type": "code",
   "execution_count": 45,
   "metadata": {},
   "outputs": [
    {
     "name": "stdout",
     "output_type": "stream",
     "text": [
      "[[4549 1222]\n",
      " [2045 3866]]\n"
     ]
    }
   ],
   "source": [
    "print(confusion_matrix(y_test, y_pred_dt))"
   ]
  },
  {
   "cell_type": "code",
   "execution_count": 125,
   "metadata": {},
   "outputs": [
    {
     "name": "stdout",
     "output_type": "stream",
     "text": [
      "              precision    recall  f1-score   support\n",
      "\n",
      "           0       0.69      0.79      0.74      5771\n",
      "           1       0.76      0.65      0.70      5911\n",
      "\n",
      "   micro avg       0.72      0.72      0.72     11682\n",
      "   macro avg       0.72      0.72      0.72     11682\n",
      "weighted avg       0.73      0.72      0.72     11682\n",
      "\n"
     ]
    }
   ],
   "source": [
    "print(classification_report(y_test, y_pred_dt))"
   ]
  },
  {
   "cell_type": "code",
   "execution_count": 46,
   "metadata": {},
   "outputs": [
    {
     "data": {
      "image/png": "[encoded data removed]",
      "text/plain": [
       "<Figure size 576x432 with 1 Axes>"
      ]
     },
     "metadata": {},
     "output_type": "display_data"
    },
    {
     "data": {
      "image/png": "[encoded data removed]",
      "text/plain": [
       "<Figure size 576x432 with 1 Axes>"
      ]
     },
     "metadata": {},
     "output_type": "display_data"
    }
   ],
   "source": [
    "dt = DecisionTreeClassifier(max_depth=8, min_samples_leaf=1, min_samples_split=4)\n",
    "dt = dt.fit(X_train, y_train)\n",
    "y_probas = dt.predict_proba(X_test)\n",
    "skplt.metrics.plot_roc(y_test, y_probas, plot_micro=False, plot_macro=False,figsize=(8,6))\n",
    "\n",
    "dt = DecisionTreeClassifier(max_depth=8, min_samples_leaf=1, min_samples_split=4)\n",
    "dt = dt.fit(X_train, y_train)\n",
    "y_probas = dt.predict_proba(X_test)\n",
    "skplt.metrics.plot_lift_curve(y_test, y_probas,figsize=(8,6))\n",
    "\n",
    "plt.show()"
   ]
  },
  {
   "cell_type": "markdown",
   "metadata": {},
   "source": [
    "### K-Nearest Neigbor (KNN)"
   ]
  },
  {
   "cell_type": "code",
   "execution_count": 47,
   "metadata": {},
   "outputs": [],
   "source": [
    "knn = KNeighborsClassifier()\n",
    "knn_params = {'n_neighbors': np.arange(2,15,1), 'leaf_size':np.arange(3,15,1)}\n",
    "knn_grid = RandomizedSearchCV(knn, param_distributions=knn_params, cv=3)\n",
    "knn_grid.fit(X_train, y_train)\n",
    "y_pred_knn = knn_grid.predict(X_test)\n",
    "#knn_nested_score = cross_val_score(knn_grid, X, y, cv=3)"
   ]
  },
  {
   "cell_type": "code",
   "execution_count": 48,
   "metadata": {},
   "outputs": [
    {
     "name": "stdout",
     "output_type": "stream",
     "text": [
      "Accuracy Score is 0.825886\n",
      "Precision Score is 0.819832\n",
      "Recall Score is 0.840636\n",
      "F1_score is 0.830104\n",
      "AUC Score is 0.825707\n"
     ]
    },
    {
     "data": {
      "text/plain": [
       "{'n_neighbors': 2, 'leaf_size': 8}"
      ]
     },
     "execution_count": 48,
     "metadata": {},
     "output_type": "execute_result"
    }
   ],
   "source": [
    "print(\"Accuracy Score is {0:6f}\".format(metrics.accuracy_score(y_test, y_pred_knn)))\n",
    "print(\"Precision Score is {0:6f}\".format(metrics.precision_score(y_test, y_pred_knn)))\n",
    "print(\"Recall Score is {0:6f}\".format(metrics.recall_score(y_test, y_pred_knn)))\n",
    "print(\"F1_score is {0:6f}\".format(metrics.f1_score(y_test, y_pred_knn)))\n",
    "print(\"AUC Score is {0:6f}\".format(metrics.roc_auc_score(y_test, y_pred_knn)))\n",
    "knn_grid.best_params_"
   ]
  },
  {
   "cell_type": "code",
   "execution_count": 49,
   "metadata": {},
   "outputs": [],
   "source": [
    "#print(\"mean of {0:6f} with std. dev. of {1:6f}.\".format(knn_nested_score.mean(), knn_nested_score.std()))"
   ]
  },
  {
   "cell_type": "code",
   "execution_count": 50,
   "metadata": {},
   "outputs": [
    {
     "name": "stdout",
     "output_type": "stream",
     "text": [
      "[[4679 1092]\n",
      " [ 942 4969]]\n"
     ]
    }
   ],
   "source": [
    "print(confusion_matrix(y_test, y_pred_knn))"
   ]
  },
  {
   "cell_type": "code",
   "execution_count": 126,
   "metadata": {},
   "outputs": [
    {
     "name": "stdout",
     "output_type": "stream",
     "text": [
      "              precision    recall  f1-score   support\n",
      "\n",
      "           0       0.83      0.81      0.82      5771\n",
      "           1       0.82      0.84      0.83      5911\n",
      "\n",
      "   micro avg       0.83      0.83      0.83     11682\n",
      "   macro avg       0.83      0.83      0.83     11682\n",
      "weighted avg       0.83      0.83      0.83     11682\n",
      "\n"
     ]
    }
   ],
   "source": [
    "print(classification_report(y_test, y_pred_knn))"
   ]
  },
  {
   "cell_type": "code",
   "execution_count": 127,
   "metadata": {},
   "outputs": [
    {
     "data": {
      "image/png": "[encoded data removed]",
      "text/plain": [
       "<Figure size 576x432 with 1 Axes>"
      ]
     },
     "metadata": {},
     "output_type": "display_data"
    },
    {
     "data": {
      "image/png": "[encoded data removed]",
      "text/plain": [
       "<Figure size 576x432 with 1 Axes>"
      ]
     },
     "metadata": {},
     "output_type": "display_data"
    }
   ],
   "source": [
    "knn = KNeighborsClassifier(n_neighbors=2, leaf_size=8)\n",
    "knn = knn.fit(X_train, y_train)\n",
    "y_probas = knn.predict_proba(X_test)\n",
    "skplt.metrics.plot_roc(y_test, y_probas, plot_micro=False, plot_macro=False,figsize=(8,6))\n",
    "\n",
    "knn = KNeighborsClassifier(n_neighbors=2, leaf_size=8)\n",
    "knn = knn.fit(X_train, y_train)\n",
    "y_probas = knn.predict_proba(X_test)\n",
    "skplt.metrics.plot_lift_curve(y_test, y_probas,figsize=(8,6))\n",
    "\n",
    "plt.show()"
   ]
  },
  {
   "cell_type": "markdown",
   "metadata": {},
   "source": [
    "### Naive Bayes"
   ]
  },
  {
   "cell_type": "code",
   "execution_count": 52,
   "metadata": {},
   "outputs": [],
   "source": [
    "nb = GaussianNB()\n",
    "nb_params = {'var_smoothing': [1e-10, 1e-09, 1e-08]}\n",
    "nb_grid = GridSearchCV(nb, nb_params, cv=3)\n",
    "nb_grid.fit(X_train, y_train)\n",
    "y_pred_nb = nb_grid.predict(X_test)\n",
    "nb_nested_score = cross_val_score(nb_grid, X, y, cv=3)"
   ]
  },
  {
   "cell_type": "code",
   "execution_count": 53,
   "metadata": {},
   "outputs": [
    {
     "name": "stdout",
     "output_type": "stream",
     "text": [
      "Accuracy Score is 0.604349\n",
      "Precision Score is 0.576571\n",
      "Recall Score is 0.821012\n",
      "F1_score is 0.677415\n",
      "AUC Score is 0.601721\n"
     ]
    },
    {
     "data": {
      "text/plain": [
       "{'var_smoothing': 1e-10}"
      ]
     },
     "execution_count": 53,
     "metadata": {},
     "output_type": "execute_result"
    }
   ],
   "source": [
    "print(\"Accuracy Score is {0:6f}\".format(metrics.accuracy_score(y_test, y_pred_nb)))\n",
    "print(\"Precision Score is {0:6f}\".format(metrics.precision_score(y_test, y_pred_nb)))\n",
    "print(\"Recall Score is {0:6f}\".format(metrics.recall_score(y_test, y_pred_nb)))\n",
    "print(\"F1_score is {0:6f}\".format(metrics.f1_score(y_test, y_pred_nb)))\n",
    "print(\"AUC Score is {0:6f}\".format(metrics.roc_auc_score(y_test, y_pred_nb)))\n",
    "nb_grid.best_params_"
   ]
  },
  {
   "cell_type": "code",
   "execution_count": 54,
   "metadata": {},
   "outputs": [
    {
     "name": "stdout",
     "output_type": "stream",
     "text": [
      "mean of 0.533067 with std. dev. of 0.057883.\n"
     ]
    }
   ],
   "source": [
    "print(\"mean of {0:6f} with std. dev. of {1:6f}.\".format(nb_nested_score.mean(), nb_nested_score.std()))"
   ]
  },
  {
   "cell_type": "code",
   "execution_count": 55,
   "metadata": {},
   "outputs": [
    {
     "name": "stdout",
     "output_type": "stream",
     "text": [
      "[[2207 3564]\n",
      " [1058 4853]]\n"
     ]
    }
   ],
   "source": [
    "print(confusion_matrix(y_test, y_pred_nb))"
   ]
  },
  {
   "cell_type": "code",
   "execution_count": 128,
   "metadata": {},
   "outputs": [
    {
     "name": "stdout",
     "output_type": "stream",
     "text": [
      "              precision    recall  f1-score   support\n",
      "\n",
      "           0       0.68      0.38      0.49      5771\n",
      "           1       0.58      0.82      0.68      5911\n",
      "\n",
      "   micro avg       0.60      0.60      0.60     11682\n",
      "   macro avg       0.63      0.60      0.58     11682\n",
      "weighted avg       0.63      0.60      0.58     11682\n",
      "\n"
     ]
    }
   ],
   "source": [
    "print(classification_report(y_test, y_pred_nb))"
   ]
  },
  {
   "cell_type": "code",
   "execution_count": 56,
   "metadata": {},
   "outputs": [
    {
     "data": {
      "image/png": "[encoded data removed]",
      "text/plain": [
       "<Figure size 576x432 with 1 Axes>"
      ]
     },
     "metadata": {},
     "output_type": "display_data"
    },
    {
     "data": {
      "image/png": "[encoded data removed]",
      "text/plain": [
       "<Figure size 576x432 with 1 Axes>"
      ]
     },
     "metadata": {},
     "output_type": "display_data"
    }
   ],
   "source": [
    "nb = GaussianNB(var_smoothing=1e-10)\n",
    "nb = nb.fit(X_train, y_train)\n",
    "y_probas = nb.predict_proba(X_test)\n",
    "skplt.metrics.plot_roc(y_test, y_probas, plot_micro=False, plot_macro=False,figsize=(8,6))\n",
    "\n",
    "nb = GaussianNB(var_smoothing=1e-10)\n",
    "nb = nb.fit(X_train, y_train)\n",
    "y_probas = nb.predict_proba(X_test)\n",
    "skplt.metrics.plot_lift_curve(y_test, y_probas,figsize=(8,6))\n",
    "\n",
    "plt.show()"
   ]
  },
  {
   "cell_type": "markdown",
   "metadata": {},
   "source": [
    "### AdaBoost"
   ]
  },
  {
   "cell_type": "code",
   "execution_count": 57,
   "metadata": {},
   "outputs": [],
   "source": [
    "ab = AdaBoostClassifier()\n",
    "ab_params = {'n_estimators': np.arange(50,350,50),'learning_rate':np.arange(0.4,1.4,0.2)}\n",
    "ab_grid = GridSearchCV(ab, ab_params, cv=3)\n",
    "ab_grid.fit(X_train, y_train)\n",
    "y_pred_ab = ab_grid.predict(X_test)\n",
    "ab_nested_score = cross_val_score(ab_grid, X, y, cv=3)"
   ]
  },
  {
   "cell_type": "code",
   "execution_count": 58,
   "metadata": {},
   "outputs": [
    {
     "name": "stdout",
     "output_type": "stream",
     "text": [
      "Accuracy Score is 0.711693\n",
      "Precision Score is 0.754861\n",
      "Recall Score is 0.637117\n",
      "F1_score is 0.691009\n",
      "AUC Score is 0.712598\n"
     ]
    },
    {
     "data": {
      "text/plain": [
       "{'learning_rate': 1.2000000000000002, 'n_estimators': 300}"
      ]
     },
     "execution_count": 58,
     "metadata": {},
     "output_type": "execute_result"
    }
   ],
   "source": [
    "print(\"Accuracy Score is {0:6f}\".format(metrics.accuracy_score(y_test, y_pred_ab)))\n",
    "print(\"Precision Score is {0:6f}\".format(metrics.precision_score(y_test, y_pred_ab)))\n",
    "print(\"Recall Score is {0:6f}\".format(metrics.recall_score(y_test, y_pred_ab)))\n",
    "print(\"F1_score is {0:6f}\".format(metrics.f1_score(y_test, y_pred_ab)))\n",
    "print(\"AUC Score is {0:6f}\".format(metrics.roc_auc_score(y_test, y_pred_ab)))\n",
    "ab_grid.best_params_"
   ]
  },
  {
   "cell_type": "code",
   "execution_count": 68,
   "metadata": {},
   "outputs": [
    {
     "name": "stdout",
     "output_type": "stream",
     "text": [
      "mean of 0.818200 with std. dev. of 0.006932.\n"
     ]
    }
   ],
   "source": [
    "print(\"mean of {0:6f} with std. dev. of {1:6f}.\".format(ab_nested_score.mean(), ab_nested_score.std()))"
   ]
  },
  {
   "cell_type": "code",
   "execution_count": 60,
   "metadata": {},
   "outputs": [
    {
     "name": "stdout",
     "output_type": "stream",
     "text": [
      "[[4548 1223]\n",
      " [2145 3766]]\n"
     ]
    }
   ],
   "source": [
    "print(confusion_matrix(y_test, y_pred_ab))"
   ]
  },
  {
   "cell_type": "code",
   "execution_count": 129,
   "metadata": {},
   "outputs": [
    {
     "name": "stdout",
     "output_type": "stream",
     "text": [
      "              precision    recall  f1-score   support\n",
      "\n",
      "           0       0.68      0.79      0.73      5771\n",
      "           1       0.75      0.64      0.69      5911\n",
      "\n",
      "   micro avg       0.71      0.71      0.71     11682\n",
      "   macro avg       0.72      0.71      0.71     11682\n",
      "weighted avg       0.72      0.71      0.71     11682\n",
      "\n"
     ]
    }
   ],
   "source": [
    "print(classification_report(y_test, y_pred_ab))"
   ]
  },
  {
   "cell_type": "code",
   "execution_count": 61,
   "metadata": {},
   "outputs": [
    {
     "data": {
      "image/png": "[encoded data removed]",
      "text/plain": [
       "<Figure size 576x432 with 1 Axes>"
      ]
     },
     "metadata": {},
     "output_type": "display_data"
    },
    {
     "data": {
      "image/png": "[encoded data removed]",
      "text/plain": [
       "<Figure size 576x432 with 1 Axes>"
      ]
     },
     "metadata": {},
     "output_type": "display_data"
    }
   ],
   "source": [
    "ab = AdaBoostClassifier(learning_rate=1.2000000000000002, n_estimators=300)\n",
    "ab = ab.fit(X_train, y_train)\n",
    "y_probas = ab.predict_proba(X_test)\n",
    "skplt.metrics.plot_roc(y_test, y_probas, plot_micro=False, plot_macro=False,figsize=(8,6))\n",
    "\n",
    "ab = AdaBoostClassifier(learning_rate=1.2000000000000002, n_estimators=300)\n",
    "ab = ab.fit(X_train, y_train)\n",
    "y_probas = ab.predict_proba(X_test)\n",
    "skplt.metrics.plot_lift_curve(y_test, y_probas,figsize=(8,6))\n",
    "\n",
    "plt.show()"
   ]
  },
  {
   "cell_type": "markdown",
   "metadata": {},
   "source": [
    "### Gradient Boosting"
   ]
  },
  {
   "cell_type": "code",
   "execution_count": 62,
   "metadata": {},
   "outputs": [],
   "source": [
    "gb = GradientBoostingClassifier()\n",
    "gb_params = {'n_estimators': np.arange(100,500,100),'learning_rate' : np.arange(0.01,0.1,0.02), 'max_depth':np.arange(3,9,2)}\n",
    "#gb_grid = GridSearchCV(gb, gb_params, cv=5)\n",
    "gb_grid = RandomizedSearchCV(gb, param_distributions=gb_params, refit=True)\n",
    "gb_grid.fit(X_train, y_train)\n",
    "y_pred_gb = gb_grid.predict(X_test)\n",
    "#gb_nested_score = cross_val_score(gb_grid, X, y, cv=5)"
   ]
  },
  {
   "cell_type": "code",
   "execution_count": 63,
   "metadata": {},
   "outputs": [
    {
     "name": "stdout",
     "output_type": "stream",
     "text": [
      "Accuracy Score is 0.802174\n",
      "Precision Score is 0.820057\n",
      "Recall Score is 0.780240\n",
      "F1_score is 0.799653\n",
      "AUC Score is 0.802440\n"
     ]
    },
    {
     "data": {
      "text/plain": [
       "{'n_estimators': 200, 'max_depth': 7, 'learning_rate': 0.06999999999999999}"
      ]
     },
     "execution_count": 63,
     "metadata": {},
     "output_type": "execute_result"
    }
   ],
   "source": [
    "print(\"Accuracy Score is {0:6f}\".format(metrics.accuracy_score(y_test, y_pred_gb)))\n",
    "print(\"Precision Score is {0:6f}\".format(metrics.precision_score(y_test, y_pred_gb)))\n",
    "print(\"Recall Score is {0:6f}\".format(metrics.recall_score(y_test, y_pred_gb)))\n",
    "print(\"F1_score is {0:6f}\".format(metrics.f1_score(y_test, y_pred_gb)))\n",
    "print(\"AUC Score is {0:6f}\".format(metrics.roc_auc_score(y_test, y_pred_gb)))\n",
    "gb_grid.best_params_"
   ]
  },
  {
   "cell_type": "code",
   "execution_count": 69,
   "metadata": {},
   "outputs": [
    {
     "name": "stdout",
     "output_type": "stream",
     "text": [
      "[[4759 1012]\n",
      " [1299 4612]]\n"
     ]
    }
   ],
   "source": [
    "print(confusion_matrix(y_test, y_pred_gb))"
   ]
  },
  {
   "cell_type": "code",
   "execution_count": 130,
   "metadata": {},
   "outputs": [
    {
     "name": "stdout",
     "output_type": "stream",
     "text": [
      "              precision    recall  f1-score   support\n",
      "\n",
      "           0       0.79      0.82      0.80      5771\n",
      "           1       0.82      0.78      0.80      5911\n",
      "\n",
      "   micro avg       0.80      0.80      0.80     11682\n",
      "   macro avg       0.80      0.80      0.80     11682\n",
      "weighted avg       0.80      0.80      0.80     11682\n",
      "\n"
     ]
    }
   ],
   "source": [
    "print(classification_report(y_test, y_pred_gb))"
   ]
  },
  {
   "cell_type": "code",
   "execution_count": 131,
   "metadata": {},
   "outputs": [
    {
     "data": {
      "image/png": "[encoded data removed]",
      "text/plain": [
       "<Figure size 576x432 with 1 Axes>"
      ]
     },
     "metadata": {},
     "output_type": "display_data"
    },
    {
     "data": {
      "image/png": "[encoded data removed]",
      "text/plain": [
       "<Figure size 576x432 with 1 Axes>"
      ]
     },
     "metadata": {},
     "output_type": "display_data"
    }
   ],
   "source": [
    "gb = GradientBoostingClassifier(learning_rate=0.06999999999999999, n_estimators=200, max_depth= 7)\n",
    "gb = gb.fit(X_train, y_train)\n",
    "y_probas = gb.predict_proba(X_test)\n",
    "skplt.metrics.plot_roc(y_test, y_probas, plot_micro=False, plot_macro=False,figsize=(8,6))\n",
    "\n",
    "gb = GradientBoostingClassifier(learning_rate=0.06999999999999999, n_estimators=200, max_depth= 7)\n",
    "gb = gb.fit(X_train, y_train)\n",
    "y_probas = gb.predict_proba(X_test)\n",
    "skplt.metrics.plot_lift_curve(y_test, y_probas,figsize=(8,6))\n",
    "\n",
    "plt.show()"
   ]
  },
  {
   "cell_type": "markdown",
   "metadata": {},
   "source": [
    "### Bagging"
   ]
  },
  {
   "cell_type": "code",
   "execution_count": 67,
   "metadata": {},
   "outputs": [],
   "source": [
    "#bg.get_params().keys()"
   ]
  },
  {
   "cell_type": "code",
   "execution_count": 71,
   "metadata": {},
   "outputs": [],
   "source": [
    "bg = BaggingClassifier()\n",
    "bg_params = {'n_estimators': np.arange(4,20,2)}\n",
    "bg_grid = GridSearchCV(bg, bg_params, cv=5)\n",
    "bg_grid.fit(X_train, y_train)\n",
    "y_pred_bg = bg_grid.predict(X_test)\n",
    "bg_nested = cross_val_score(bg_grid, X, y, cv=5)"
   ]
  },
  {
   "cell_type": "code",
   "execution_count": 72,
   "metadata": {},
   "outputs": [
    {
     "name": "stdout",
     "output_type": "stream",
     "text": [
      "Accuracy Score is 0.922616\n",
      "Precision Score is 0.896940\n",
      "Recall Score is 0.957029\n",
      "F1_score is 0.926011\n",
      "AUC Score is 0.922199\n"
     ]
    },
    {
     "data": {
      "text/plain": [
       "{'n_estimators': 18}"
      ]
     },
     "execution_count": 72,
     "metadata": {},
     "output_type": "execute_result"
    }
   ],
   "source": [
    "print(\"Accuracy Score is {0:6f}\".format(metrics.accuracy_score(y_test, y_pred_bg)))\n",
    "print(\"Precision Score is {0:6f}\".format(metrics.precision_score(y_test, y_pred_bg)))\n",
    "print(\"Recall Score is {0:6f}\".format(metrics.recall_score(y_test, y_pred_bg)))\n",
    "print(\"F1_score is {0:6f}\".format(metrics.f1_score(y_test, y_pred_bg)))\n",
    "print(\"AUC Score is {0:6f}\".format(metrics.roc_auc_score(y_test, y_pred_bg)))\n",
    "bg_grid.best_params_"
   ]
  },
  {
   "cell_type": "code",
   "execution_count": 134,
   "metadata": {},
   "outputs": [],
   "source": [
    "#bg_nested"
   ]
  },
  {
   "cell_type": "code",
   "execution_count": 74,
   "metadata": {},
   "outputs": [
    {
     "name": "stdout",
     "output_type": "stream",
     "text": [
      "mean of 0.809201 with std. dev. of 0.009321.\n"
     ]
    }
   ],
   "source": [
    "print(\"mean of {0:6f} with std. dev. of {1:6f}.\".format(bg_nested.mean(), bg_nested.std()))"
   ]
  },
  {
   "cell_type": "code",
   "execution_count": 75,
   "metadata": {},
   "outputs": [
    {
     "name": "stdout",
     "output_type": "stream",
     "text": [
      "[[5121  650]\n",
      " [ 254 5657]]\n"
     ]
    }
   ],
   "source": [
    "print(confusion_matrix(y_test, y_pred_bg))"
   ]
  },
  {
   "cell_type": "code",
   "execution_count": 132,
   "metadata": {},
   "outputs": [
    {
     "name": "stdout",
     "output_type": "stream",
     "text": [
      "              precision    recall  f1-score   support\n",
      "\n",
      "           0       0.95      0.89      0.92      5771\n",
      "           1       0.90      0.96      0.93      5911\n",
      "\n",
      "   micro avg       0.92      0.92      0.92     11682\n",
      "   macro avg       0.92      0.92      0.92     11682\n",
      "weighted avg       0.92      0.92      0.92     11682\n",
      "\n"
     ]
    }
   ],
   "source": [
    "print(classification_report(y_test, y_pred_bg))"
   ]
  },
  {
   "cell_type": "code",
   "execution_count": 76,
   "metadata": {},
   "outputs": [
    {
     "data": {
      "image/png": "[encoded data removed]",
      "text/plain": [
       "<Figure size 576x432 with 1 Axes>"
      ]
     },
     "metadata": {},
     "output_type": "display_data"
    },
    {
     "data": {
      "image/png": "[encoded data removed]",
      "text/plain": [
       "<Figure size 576x432 with 1 Axes>"
      ]
     },
     "metadata": {},
     "output_type": "display_data"
    }
   ],
   "source": [
    "bg = BaggingClassifier(n_estimators=18)\n",
    "bg = bg.fit(X_train, y_train)\n",
    "y_probas = bg.predict_proba(X_test)\n",
    "skplt.metrics.plot_roc(y_test, y_probas, plot_micro=False, plot_macro=False,figsize=(8,6))\n",
    "\n",
    "bg = BaggingClassifier(n_estimators=18)\n",
    "bg = bg.fit(X_train, y_train)\n",
    "y_probas = bg.predict_proba(X_test)\n",
    "skplt.metrics.plot_lift_curve(y_test, y_probas,figsize=(8,6))\n",
    "\n",
    "plt.show()"
   ]
  },
  {
   "cell_type": "markdown",
   "metadata": {},
   "source": [
    "### Stacking Classifier"
   ]
  },
  {
   "cell_type": "code",
   "execution_count": 112,
   "metadata": {},
   "outputs": [],
   "source": [
    "clf1 = SVC(kernel='rbf', gamma=10, C=1000)\n",
    "clf2 = GradientBoostingClassifier(n_estimators=200, max_depth=7, learning_rate=0.06999999999999999)\n",
    "clf3 = BaggingClassifier(n_estimators=18)\n",
    "rf = RandomForestClassifier(n_estimators=400)\n",
    "sclf = StackingClassifier(classifiers=[clf1, clf2, clf3],meta_classifier=rf, use_features_in_secondary=True)\n",
    "sclf.fit(X_train, y_train)\n",
    "y_pred_sclf = bg_grid.predict(X_test)"
   ]
  },
  {
   "cell_type": "code",
   "execution_count": 113,
   "metadata": {},
   "outputs": [
    {
     "name": "stdout",
     "output_type": "stream",
     "text": [
      "Accuracy Score is 0.922616\n",
      "Precision Score is 0.896940\n",
      "Recall Score is 0.957029\n",
      "F1_score is 0.926011\n",
      "AUC Score is 0.922199\n"
     ]
    }
   ],
   "source": [
    "print(\"Accuracy Score is {0:6f}\".format(metrics.accuracy_score(y_test, y_pred_sclf)))\n",
    "print(\"Precision Score is {0:6f}\".format(metrics.precision_score(y_test, y_pred_sclf)))\n",
    "print(\"Recall Score is {0:6f}\".format(metrics.recall_score(y_test, y_pred_sclf)))\n",
    "print(\"F1_score is {0:6f}\".format(metrics.f1_score(y_test, y_pred_sclf)))\n",
    "print(\"AUC Score is {0:6f}\".format(metrics.roc_auc_score(y_test, y_pred_sclf)))"
   ]
  },
  {
   "cell_type": "code",
   "execution_count": 114,
   "metadata": {},
   "outputs": [
    {
     "name": "stdout",
     "output_type": "stream",
     "text": [
      "[[5121  650]\n",
      " [ 254 5657]]\n"
     ]
    }
   ],
   "source": [
    "print(confusion_matrix(y_test, y_pred_sclf))"
   ]
  },
  {
   "cell_type": "code",
   "execution_count": 116,
   "metadata": {},
   "outputs": [
    {
     "name": "stdout",
     "output_type": "stream",
     "text": [
      "              precision    recall  f1-score   support\n",
      "\n",
      "           0       0.95      0.89      0.92      5771\n",
      "           1       0.90      0.96      0.93      5911\n",
      "\n",
      "   micro avg       0.92      0.92      0.92     11682\n",
      "   macro avg       0.92      0.92      0.92     11682\n",
      "weighted avg       0.92      0.92      0.92     11682\n",
      "\n"
     ]
    }
   ],
   "source": [
    "print(classification_report(y_test, y_pred_sclf))"
   ]
  },
  {
   "cell_type": "code",
   "execution_count": 117,
   "metadata": {},
   "outputs": [
    {
     "data": {
      "image/png": "[encoded data removed]",
      "text/plain": [
       "<Figure size 576x432 with 1 Axes>"
      ]
     },
     "metadata": {},
     "output_type": "display_data"
    },
    {
     "data": {
      "image/png": "[encoded data removed]",
      "text/plain": [
       "<Figure size 576x432 with 1 Axes>"
      ]
     },
     "metadata": {},
     "output_type": "display_data"
    }
   ],
   "source": [
    "clf1 = SVC(kernel='rbf', gamma=10, C=1000, probability=True)\n",
    "clf2 = GradientBoostingClassifier(n_estimators=200, max_depth=7, learning_rate=0.06999999999999999)\n",
    "clf3 = BaggingClassifier(n_estimators=18)\n",
    "rf = RandomForestClassifier(n_estimators=400)\n",
    "sclf = StackingClassifier(classifiers=[clf1, clf2, clf3],meta_classifier=rf, use_features_in_secondary=True)\n",
    "sclf = sclf.fit(X_train, y_train)\n",
    "y_probas = sclf.predict_proba(X_test)\n",
    "skplt.metrics.plot_roc(y_test, y_probas, plot_micro=False, plot_macro=False,figsize=(8,6))\n",
    "\n",
    "clf1 = SVC(kernel='rbf', gamma=10, C=1000, probability=True)\n",
    "clf2 = GradientBoostingClassifier(n_estimators=200, max_depth=7, learning_rate=0.06999999999999999)\n",
    "clf3 = BaggingClassifier(n_estimators=18)\n",
    "rf = RandomForestClassifier(n_estimators=400)\n",
    "sclf = StackingClassifier(classifiers=[clf1, clf2, clf3],meta_classifier=rf, use_features_in_secondary=True)\n",
    "sclf = sclf.fit(X_train, y_train)\n",
    "y_probas = sclf.predict_proba(X_test)\n",
    "skplt.metrics.plot_lift_curve(y_test, y_probas,figsize=(8,6))\n",
    "\n",
    "plt.show()"
   ]
  },
  {
   "cell_type": "markdown",
   "metadata": {},
   "source": [
    "### Artificial Neural Network (ANN)"
   ]
  },
  {
   "cell_type": "code",
   "execution_count": 81,
   "metadata": {},
   "outputs": [
    {
     "name": "stderr",
     "output_type": "stream",
     "text": [
      "Using TensorFlow backend.\n"
     ]
    }
   ],
   "source": [
    "# Importing Keras libraries\n",
    "import keras\n",
    "from keras.models import Sequential\n",
    "from keras.layers import Dense, Dropout, GRU, Bidirectional"
   ]
  },
  {
   "cell_type": "code",
   "execution_count": 82,
   "metadata": {},
   "outputs": [],
   "source": [
    "#Initializing the Neural Network\n",
    "classifier = Sequential()"
   ]
  },
  {
   "cell_type": "code",
   "execution_count": 83,
   "metadata": {},
   "outputs": [],
   "source": [
    "# Adding the input layer and the first hidden layer\n",
    "classifier.add(Dense(output_dim = 216, init = 'uniform', activation = 'relu', input_dim = 23))\n",
    "#classifier.add(Dropout(0.2))\n",
    "# Adding the second hidden layer\n",
    "classifier.add(Dense(output_dim = 216, init = 'uniform', activation = 'relu'))\n",
    "#classifier.add(Dropout(0.2))\n",
    "classifier.add(Dense(output_dim = 216, init = 'uniform', activation = 'relu'))\n",
    "# Adding the output layer\n",
    "classifier.add(Dense(output_dim = 1, init = 'uniform', activation = 'sigmoid'))"
   ]
  },
  {
   "cell_type": "code",
   "execution_count": 84,
   "metadata": {},
   "outputs": [
    {
     "name": "stdout",
     "output_type": "stream",
     "text": [
      "WARNING:tensorflow:From C:\\Anaconda3\\lib\\site-packages\\keras\\backend\\tensorflow_backend.py:1290: calling reduce_mean (from tensorflow.python.ops.math_ops) with keep_dims is deprecated and will be removed in a future version.\n",
      "Instructions for updating:\n",
      "keep_dims is deprecated, use keepdims instead\n"
     ]
    }
   ],
   "source": [
    "# Compiling the Neural Network\n",
    "classifier.compile(optimizer = 'adam', loss = 'binary_crossentropy', metrics = ['accuracy'])"
   ]
  },
  {
   "cell_type": "code",
   "execution_count": 85,
   "metadata": {},
   "outputs": [
    {
     "name": "stdout",
     "output_type": "stream",
     "text": [
      "Epoch 1/50\n",
      "35046/35046 [==============================] - 9s - loss: 0.5805 - acc: 0.6970     \n",
      "Epoch 2/50\n",
      "35046/35046 [==============================] - 8s - loss: 0.5626 - acc: 0.7096     \n",
      "Epoch 3/50\n",
      "35046/35046 [==============================] - 8s - loss: 0.5557 - acc: 0.7125     \n",
      "Epoch 4/50\n",
      "35046/35046 [==============================] - 8s - loss: 0.5484 - acc: 0.7181     \n",
      "Epoch 5/50\n",
      "35046/35046 [==============================] - 8s - loss: 0.5413 - acc: 0.7213     \n",
      "Epoch 6/50\n",
      "35046/35046 [==============================] - 8s - loss: 0.5338 - acc: 0.7260     \n",
      "Epoch 7/50\n",
      "35046/35046 [==============================] - 8s - loss: 0.5261 - acc: 0.7319     \n",
      "Epoch 8/50\n",
      "35046/35046 [==============================] - 8s - loss: 0.5165 - acc: 0.7392     \n",
      "Epoch 9/50\n",
      "35046/35046 [==============================] - 8s - loss: 0.5060 - acc: 0.7471     \n",
      "Epoch 10/50\n",
      "35046/35046 [==============================] - 8s - loss: 0.4954 - acc: 0.7516     \n",
      "Epoch 11/50\n",
      "35046/35046 [==============================] - 8s - loss: 0.4843 - acc: 0.7601     \n",
      "Epoch 12/50\n",
      "35046/35046 [==============================] - 8s - loss: 0.4691 - acc: 0.7680     \n",
      "Epoch 13/50\n",
      "35046/35046 [==============================] - 8s - loss: 0.4550 - acc: 0.7785     \n",
      "Epoch 14/50\n",
      "35046/35046 [==============================] - 8s - loss: 0.4418 - acc: 0.7871     \n",
      "Epoch 15/50\n",
      "35046/35046 [==============================] - 8s - loss: 0.4288 - acc: 0.7941     \n",
      "Epoch 16/50\n",
      "35046/35046 [==============================] - 8s - loss: 0.4159 - acc: 0.8001     \n",
      "Epoch 17/50\n",
      "35046/35046 [==============================] - 8s - loss: 0.4038 - acc: 0.8064     \n",
      "Epoch 18/50\n",
      "35046/35046 [==============================] - 8s - loss: 0.3971 - acc: 0.8116     \n",
      "Epoch 19/50\n",
      "35046/35046 [==============================] - 8s - loss: 0.3829 - acc: 0.8158     \n",
      "Epoch 20/50\n",
      "35046/35046 [==============================] - 8s - loss: 0.3745 - acc: 0.8236     \n",
      "Epoch 21/50\n",
      "35046/35046 [==============================] - 9s - loss: 0.3630 - acc: 0.8288     \n",
      "Epoch 22/50\n",
      "35046/35046 [==============================] - 8s - loss: 0.3563 - acc: 0.8308     \n",
      "Epoch 23/50\n",
      "35046/35046 [==============================] - 8s - loss: 0.3502 - acc: 0.8356     \n",
      "Epoch 24/50\n",
      "35046/35046 [==============================] - 8s - loss: 0.3398 - acc: 0.8413     \n",
      "Epoch 25/50\n",
      "35046/35046 [==============================] - 8s - loss: 0.3330 - acc: 0.8445     \n",
      "Epoch 26/50\n",
      "35046/35046 [==============================] - 8s - loss: 0.3239 - acc: 0.8490     \n",
      "Epoch 27/50\n",
      "35046/35046 [==============================] - 8s - loss: 0.3214 - acc: 0.8500     \n",
      "Epoch 28/50\n",
      "35046/35046 [==============================] - 7s - loss: 0.3109 - acc: 0.8576     \n",
      "Epoch 29/50\n",
      "35046/35046 [==============================] - 8s - loss: 0.3023 - acc: 0.8602     \n",
      "Epoch 30/50\n",
      "35046/35046 [==============================] - 8s - loss: 0.2997 - acc: 0.8610     \n",
      "Epoch 31/50\n",
      "35046/35046 [==============================] - 8s - loss: 0.2935 - acc: 0.8643     \n",
      "Epoch 32/50\n",
      "35046/35046 [==============================] - 8s - loss: 0.2898 - acc: 0.8663     \n",
      "Epoch 33/50\n",
      "35046/35046 [==============================] - 7s - loss: 0.2853 - acc: 0.8702     \n",
      "Epoch 34/50\n",
      "35046/35046 [==============================] - 8s - loss: 0.2758 - acc: 0.8759     \n",
      "Epoch 35/50\n",
      "35046/35046 [==============================] - 8s - loss: 0.2717 - acc: 0.8750     \n",
      "Epoch 36/50\n",
      "35046/35046 [==============================] - 9s - loss: 0.2686 - acc: 0.8778     \n",
      "Epoch 37/50\n",
      "35046/35046 [==============================] - 7s - loss: 0.2630 - acc: 0.8806     \n",
      "Epoch 38/50\n",
      "35046/35046 [==============================] - 10s - loss: 0.2605 - acc: 0.8832    - ET\n",
      "Epoch 39/50\n",
      "35046/35046 [==============================] - 13s - loss: 0.2549 - acc: 0.8860    \n",
      "Epoch 40/50\n",
      "35046/35046 [==============================] - 7s - loss: 0.2515 - acc: 0.8887     \n",
      "Epoch 41/50\n",
      "35046/35046 [==============================] - 8s - loss: 0.2423 - acc: 0.8900     \n",
      "Epoch 42/50\n",
      "35046/35046 [==============================] - 8s - loss: 0.2410 - acc: 0.8921     \n",
      "Epoch 43/50\n",
      "35046/35046 [==============================] - 8s - loss: 0.2387 - acc: 0.8943     \n",
      "Epoch 44/50\n",
      "35046/35046 [==============================] - 8s - loss: 0.2323 - acc: 0.8965     \n",
      "Epoch 45/50\n",
      "35046/35046 [==============================] - 8s - loss: 0.2338 - acc: 0.8967     \n",
      "Epoch 46/50\n",
      "35046/35046 [==============================] - 8s - loss: 0.2263 - acc: 0.8999     \n",
      "Epoch 47/50\n",
      "35046/35046 [==============================] - 8s - loss: 0.2224 - acc: 0.9012     \n",
      "Epoch 48/50\n",
      "35046/35046 [==============================] - 8s - loss: 0.2203 - acc: 0.9022     \n",
      "Epoch 49/50\n",
      "35046/35046 [==============================] - 8s - loss: 0.2229 - acc: 0.9033     \n",
      "Epoch 50/50\n",
      "35046/35046 [==============================] - 8s - loss: 0.2108 - acc: 0.9065     \n"
     ]
    },
    {
     "data": {
      "text/plain": [
       "<keras.callbacks.History at 0x14c34fe8c88>"
      ]
     },
     "execution_count": 85,
     "metadata": {},
     "output_type": "execute_result"
    }
   ],
   "source": [
    "# Fitting the Model \n",
    "classifier.fit(X_train, y_train, batch_size = 16, nb_epoch = 50)"
   ]
  },
  {
   "cell_type": "code",
   "execution_count": 86,
   "metadata": {},
   "outputs": [],
   "source": [
    "# Predicting the Test set\n",
    "y_pred_nn = classifier.predict(X_test)\n",
    "y_pred_nn = (y_pred_nn > 0.5)"
   ]
  },
  {
   "cell_type": "code",
   "execution_count": 87,
   "metadata": {},
   "outputs": [
    {
     "name": "stdout",
     "output_type": "stream",
     "text": [
      "[[4628 1143]\n",
      " [ 899 5012]]\n"
     ]
    }
   ],
   "source": [
    "# The Confusion Matrix\n",
    "print(confusion_matrix(y_test, y_pred_nn))"
   ]
  },
  {
   "cell_type": "code",
   "execution_count": 133,
   "metadata": {},
   "outputs": [
    {
     "name": "stdout",
     "output_type": "stream",
     "text": [
      "              precision    recall  f1-score   support\n",
      "\n",
      "           0       0.84      0.80      0.82      5771\n",
      "           1       0.81      0.85      0.83      5911\n",
      "\n",
      "   micro avg       0.83      0.83      0.83     11682\n",
      "   macro avg       0.83      0.82      0.83     11682\n",
      "weighted avg       0.83      0.83      0.83     11682\n",
      "\n"
     ]
    }
   ],
   "source": [
    "print(classification_report(y_test, y_pred_nn))"
   ]
  },
  {
   "cell_type": "code",
   "execution_count": 88,
   "metadata": {},
   "outputs": [
    {
     "name": "stdout",
     "output_type": "stream",
     "text": [
      "Accuracy Score is 0.825201\n",
      "Precision Score is 0.814297\n",
      "Recall Score is 0.847911\n",
      "F1_score is 0.830764\n",
      "AUC Score is 0.824926\n"
     ]
    }
   ],
   "source": [
    "print(\"Accuracy Score is {0:6f}\".format(metrics.accuracy_score(y_test, y_pred_nn)))\n",
    "print(\"Precision Score is {0:6f}\".format(metrics.precision_score(y_test, y_pred_nn)))\n",
    "print(\"Recall Score is {0:6f}\".format(metrics.recall_score(y_test, y_pred_nn)))\n",
    "print(\"F1_score is {0:6f}\".format(metrics.f1_score(y_test, y_pred_nn)))\n",
    "print(\"AUC Score is {0:6f}\".format(metrics.roc_auc_score(y_test, y_pred_nn)))"
   ]
  },
  {
   "cell_type": "markdown",
   "metadata": {},
   "source": [
    "## Feature Selection using Step Forward Feature Selection"
   ]
  },
  {
   "cell_type": "code",
   "execution_count": 89,
   "metadata": {},
   "outputs": [],
   "source": [
    "from sklearn.metrics import accuracy_score as acc\n",
    "from mlxtend.feature_selection import SequentialFeatureSelector as sfs"
   ]
  },
  {
   "cell_type": "code",
   "execution_count": 90,
   "metadata": {},
   "outputs": [
    {
     "name": "stderr",
     "output_type": "stream",
     "text": [
      "[Parallel(n_jobs=10)]: Using backend LokyBackend with 10 concurrent workers.\n",
      "[Parallel(n_jobs=10)]: Done  16 out of  23 | elapsed:   43.6s remaining:   19.0s\n",
      "[Parallel(n_jobs=10)]: Done  23 out of  23 | elapsed:   45.1s finished\n",
      "\n",
      "[2019-01-10 22:01:48] Features: 1/15 -- score: 0.7345204240088918[Parallel(n_jobs=10)]: Using backend LokyBackend with 10 concurrent workers.\n",
      "[Parallel(n_jobs=10)]: Done  15 out of  22 | elapsed:   30.6s remaining:   14.2s\n",
      "[Parallel(n_jobs=10)]: Done  22 out of  22 | elapsed:   34.9s finished\n",
      "\n",
      "[2019-01-10 22:02:23] Features: 2/15 -- score: 0.7896480734958932[Parallel(n_jobs=10)]: Using backend LokyBackend with 10 concurrent workers.\n",
      "[Parallel(n_jobs=10)]: Done  13 out of  21 | elapsed:   26.6s remaining:   16.3s\n",
      "[Parallel(n_jobs=10)]: Done  21 out of  21 | elapsed:   31.5s finished\n",
      "\n",
      "[2019-01-10 22:02:55] Features: 3/15 -- score: 0.8340179684536362[Parallel(n_jobs=10)]: Using backend LokyBackend with 10 concurrent workers.\n",
      "[Parallel(n_jobs=10)]: Done  12 out of  20 | elapsed:   38.2s remaining:   25.4s\n",
      "[Parallel(n_jobs=10)]: Done  20 out of  20 | elapsed:   43.4s finished\n",
      "\n",
      "[2019-01-10 22:03:39] Features: 4/15 -- score: 0.8536780761890074[Parallel(n_jobs=10)]: Using backend LokyBackend with 10 concurrent workers.\n",
      "[Parallel(n_jobs=10)]: Done  10 out of  19 | elapsed:   45.8s remaining:   41.2s\n",
      "[Parallel(n_jobs=10)]: Done  19 out of  19 | elapsed:   50.8s finished\n",
      "\n",
      "[2019-01-10 22:04:29] Features: 5/15 -- score: 0.8610683925881885[Parallel(n_jobs=10)]: Using backend LokyBackend with 10 concurrent workers.\n",
      "[Parallel(n_jobs=10)]: Done   9 out of  18 | elapsed:   25.2s remaining:   25.2s\n",
      "[Parallel(n_jobs=10)]: Done  18 out of  18 | elapsed:   52.8s finished\n",
      "\n",
      "[2019-01-10 22:05:22] Features: 6/15 -- score: 0.8679735638441674[Parallel(n_jobs=10)]: Using backend LokyBackend with 10 concurrent workers.\n",
      "[Parallel(n_jobs=10)]: Done   7 out of  17 | elapsed:   25.5s remaining:   36.4s\n",
      "[Parallel(n_jobs=10)]: Done  17 out of  17 | elapsed:   49.6s finished\n",
      "\n",
      "[2019-01-10 22:06:12] Features: 7/15 -- score: 0.8742797351185269[Parallel(n_jobs=10)]: Using backend LokyBackend with 10 concurrent workers.\n",
      "[Parallel(n_jobs=10)]: Done   6 out of  16 | elapsed:   28.8s remaining:   48.1s\n",
      "[Parallel(n_jobs=10)]: Done  16 out of  16 | elapsed:   52.7s finished\n",
      "\n",
      "[2019-01-10 22:07:05] Features: 8/15 -- score: 0.875991560681268[Parallel(n_jobs=10)]: Using backend LokyBackend with 10 concurrent workers.\n",
      "[Parallel(n_jobs=10)]: Done   4 out of  15 | elapsed:   31.7s remaining:  1.5min\n",
      "[Parallel(n_jobs=10)]: Done  12 out of  15 | elapsed:   54.6s remaining:   13.6s\n",
      "[Parallel(n_jobs=10)]: Done  15 out of  15 | elapsed:   55.2s finished\n",
      "\n",
      "[2019-01-10 22:08:00] Features: 9/15 -- score: 0.8789877036222867[Parallel(n_jobs=10)]: Using backend LokyBackend with 10 concurrent workers.\n",
      "[Parallel(n_jobs=10)]: Done   3 out of  14 | elapsed:   35.4s remaining:  2.2min\n",
      "[Parallel(n_jobs=10)]: Done  11 out of  14 | elapsed:   57.7s remaining:   15.7s\n",
      "[Parallel(n_jobs=10)]: Done  14 out of  14 | elapsed:   58.1s finished\n",
      "\n",
      "[2019-01-10 22:08:59] Features: 10/15 -- score: 0.8801004901325654[Parallel(n_jobs=10)]: Using backend LokyBackend with 10 concurrent workers.\n",
      "[Parallel(n_jobs=10)]: Done   8 out of  13 | elapsed:   39.8s remaining:   24.9s\n",
      "[Parallel(n_jobs=10)]: Done  13 out of  13 | elapsed:   58.4s finished\n",
      "\n",
      "[2019-01-10 22:09:57] Features: 11/15 -- score: 0.8820695289437452[Parallel(n_jobs=10)]: Using backend LokyBackend with 10 concurrent workers.\n",
      "[Parallel(n_jobs=10)]: Done   7 out of  12 | elapsed:   43.4s remaining:   31.0s\n",
      "[Parallel(n_jobs=10)]: Done  12 out of  12 | elapsed:  1.0min finished\n",
      "\n",
      "[2019-01-10 22:10:59] Features: 12/15 -- score: 0.8824119116427728[Parallel(n_jobs=10)]: Using backend LokyBackend with 10 concurrent workers.\n",
      "[Parallel(n_jobs=10)]: Done   4 out of  11 | elapsed:   45.3s remaining:  1.3min\n",
      "[Parallel(n_jobs=10)]: Done  11 out of  11 | elapsed:  1.0min finished\n",
      "\n",
      "[2019-01-10 22:11:59] Features: 13/15 -- score: 0.8819268617539869[Parallel(n_jobs=10)]: Using backend LokyBackend with 10 concurrent workers.\n",
      "[Parallel(n_jobs=10)]: Done   3 out of  10 | elapsed:   45.7s remaining:  1.8min\n",
      "[Parallel(n_jobs=10)]: Done  10 out of  10 | elapsed:   57.7s finished\n",
      "\n",
      "[2019-01-10 22:12:57] Features: 14/15 -- score: 0.8816128517748437[Parallel(n_jobs=9)]: Using backend LokyBackend with 9 concurrent workers.\n",
      "[Parallel(n_jobs=9)]: Done   2 out of   9 | elapsed:   46.9s remaining:  2.7min\n",
      "[Parallel(n_jobs=9)]: Done   7 out of   9 | elapsed:   49.5s remaining:   14.1s\n",
      "[Parallel(n_jobs=9)]: Done   9 out of   9 | elapsed:   49.7s finished\n",
      "\n",
      "[2019-01-10 22:13:47] Features: 15/15 -- score: 0.8824976062382875"
     ]
    }
   ],
   "source": [
    "# Build RF classifier to use in feature selection\n",
    "clf = BaggingClassifier(n_estimators=18)\n",
    "\n",
    "# Build step forward feature selection\n",
    "sfs1 = sfs(clf,\n",
    "           k_features=15,\n",
    "           forward=True, # Otherwise, this will be the backward selection \n",
    "           floating=False,\n",
    "           n_jobs=10, # The number of CPUs to use for evaluating \n",
    "           verbose=2,\n",
    "           scoring='accuracy',\n",
    "           cv=3)\n",
    "\n",
    "# Perform SFFS\n",
    "sfs1 = sfs1.fit(X_train, y_train)"
   ]
  },
  {
   "cell_type": "code",
   "execution_count": 91,
   "metadata": {},
   "outputs": [
    {
     "name": "stdout",
     "output_type": "stream",
     "text": [
      "[0, 3, 4, 5, 6, 8, 9, 11, 14, 16, 17, 19, 20, 21, 22]\n"
     ]
    }
   ],
   "source": [
    "# Candidate features?\n",
    "feat_cols = list(sfs1.k_feature_idx_)\n",
    "print(feat_cols)"
   ]
  },
  {
   "cell_type": "code",
   "execution_count": 92,
   "metadata": {},
   "outputs": [
    {
     "data": {
      "text/plain": [
       "{1: {'feature_idx': (11,),\n",
       "  'cv_scores': array([0.73551314, 0.72975518, 0.73829295]),\n",
       "  'avg_score': 0.7345204240088918,\n",
       "  'feature_names': ('11',)},\n",
       " 2: {'feature_idx': (5, 11),\n",
       "  'cv_scores': array([0.78421638, 0.79412772, 0.79060012]),\n",
       "  'avg_score': 0.7896480734958932,\n",
       "  'feature_names': ('5', '11')},\n",
       " 3: {'feature_idx': (5, 11, 14),\n",
       "  'cv_scores': array([0.83582984, 0.8366718 , 0.82955226]),\n",
       "  'avg_score': 0.8340179684536362,\n",
       "  'feature_names': ('5', '11', '14')},\n",
       " 4: {'feature_idx': (5, 11, 14, 16),\n",
       "  'cv_scores': array([0.85234957, 0.85447697, 0.85420769]),\n",
       "  'avg_score': 0.8536780761890074,\n",
       "  'feature_names': ('5', '11', '14', '16')},\n",
       " 5: {'feature_idx': (4, 5, 11, 14, 16),\n",
       "  'cv_scores': array([0.85945391, 0.86141072, 0.86234055]),\n",
       "  'avg_score': 0.8610683925881885,\n",
       "  'feature_names': ('4', '5', '11', '14', '16')},\n",
       " 6: {'feature_idx': (0, 4, 5, 11, 14, 16),\n",
       "  'cv_scores': array([0.86869811, 0.86500599, 0.87021659]),\n",
       "  'avg_score': 0.8679735638441674,\n",
       "  'feature_names': ('0', '4', '5', '11', '14', '16')},\n",
       " 7: {'feature_idx': (0, 4, 5, 11, 14, 16, 22),\n",
       "  'cv_scores': array([0.87006762, 0.875107  , 0.87766458]),\n",
       "  'avg_score': 0.8742797351185269,\n",
       "  'feature_names': ('0', '4', '5', '11', '14', '16', '22')},\n",
       " 8: {'feature_idx': (0, 4, 5, 11, 14, 16, 17, 22),\n",
       "  'cv_scores': array([0.87623042, 0.87527821, 0.87646606]),\n",
       "  'avg_score': 0.875991560681268,\n",
       "  'feature_names': ('0', '4', '5', '11', '14', '16', '17', '22')},\n",
       " 9: {'feature_idx': (0, 4, 5, 11, 14, 16, 17, 19, 22),\n",
       "  'cv_scores': array([0.87862706, 0.87664783, 0.88168821]),\n",
       "  'avg_score': 0.8789877036222867,\n",
       "  'feature_names': ('0', '4', '5', '11', '14', '16', '17', '19', '22')},\n",
       " 10: {'feature_idx': (0, 4, 5, 11, 14, 16, 17, 19, 20, 22),\n",
       "  'cv_scores': array([0.8796542 , 0.87921589, 0.88143138]),\n",
       "  'avg_score': 0.8801004901325654,\n",
       "  'feature_names': ('0', '4', '5', '11', '14', '16', '17', '19', '20', '22')},\n",
       " 11: {'feature_idx': (0, 4, 5, 11, 14, 16, 17, 19, 20, 21, 22),\n",
       "  'cv_scores': array([0.87871266, 0.88007191, 0.88742402]),\n",
       "  'avg_score': 0.8820695289437452,\n",
       "  'feature_names': ('0',\n",
       "   '4',\n",
       "   '5',\n",
       "   '11',\n",
       "   '14',\n",
       "   '16',\n",
       "   '17',\n",
       "   '19',\n",
       "   '20',\n",
       "   '21',\n",
       "   '22')},\n",
       " 12: {'feature_idx': (0, 4, 5, 6, 11, 14, 16, 17, 19, 20, 21, 22),\n",
       "  'cv_scores': array([0.8796542 , 0.88007191, 0.88750963]),\n",
       "  'avg_score': 0.8824119116427728,\n",
       "  'feature_names': ('0',\n",
       "   '4',\n",
       "   '5',\n",
       "   '6',\n",
       "   '11',\n",
       "   '14',\n",
       "   '16',\n",
       "   '17',\n",
       "   '19',\n",
       "   '20',\n",
       "   '21',\n",
       "   '22')},\n",
       " 13: {'feature_idx': (0, 4, 5, 6, 9, 11, 14, 16, 17, 19, 20, 21, 22),\n",
       "  'cv_scores': array([0.87905504, 0.87887348, 0.88785207]),\n",
       "  'avg_score': 0.8819268617539869,\n",
       "  'feature_names': ('0',\n",
       "   '4',\n",
       "   '5',\n",
       "   '6',\n",
       "   '9',\n",
       "   '11',\n",
       "   '14',\n",
       "   '16',\n",
       "   '17',\n",
       "   '19',\n",
       "   '20',\n",
       "   '21',\n",
       "   '22')},\n",
       " 14: {'feature_idx': (0, 4, 5, 6, 8, 9, 11, 14, 16, 17, 19, 20, 21, 22),\n",
       "  'cv_scores': array([0.88128049, 0.87827427, 0.88528379]),\n",
       "  'avg_score': 0.8816128517748437,\n",
       "  'feature_names': ('0',\n",
       "   '4',\n",
       "   '5',\n",
       "   '6',\n",
       "   '8',\n",
       "   '9',\n",
       "   '11',\n",
       "   '14',\n",
       "   '16',\n",
       "   '17',\n",
       "   '19',\n",
       "   '20',\n",
       "   '21',\n",
       "   '22')},\n",
       " 15: {'feature_idx': (0, 3, 4, 5, 6, 8, 9, 11, 14, 16, 17, 19, 20, 21, 22),\n",
       "  'cv_scores': array([0.87759993, 0.88118473, 0.88870816]),\n",
       "  'avg_score': 0.8824976062382875,\n",
       "  'feature_names': ('0',\n",
       "   '3',\n",
       "   '4',\n",
       "   '5',\n",
       "   '6',\n",
       "   '8',\n",
       "   '9',\n",
       "   '11',\n",
       "   '14',\n",
       "   '16',\n",
       "   '17',\n",
       "   '19',\n",
       "   '20',\n",
       "   '21',\n",
       "   '22')}}"
      ]
     },
     "execution_count": 92,
     "metadata": {},
     "output_type": "execute_result"
    }
   ],
   "source": [
    "sfs1.subsets_"
   ]
  },
  {
   "cell_type": "code",
   "execution_count": 93,
   "metadata": {},
   "outputs": [
    {
     "name": "stderr",
     "output_type": "stream",
     "text": [
      "[Parallel(n_jobs=10)]: Using backend LokyBackend with 10 concurrent workers.\n",
      "[Parallel(n_jobs=10)]: Done  16 out of  23 | elapsed:   15.3s remaining:    6.6s\n",
      "[Parallel(n_jobs=10)]: Done  23 out of  23 | elapsed:   18.2s finished\n",
      "\n",
      "[2019-01-10 22:14:06] Features: 1/15 -- score: 0.7348913577345249[Parallel(n_jobs=10)]: Using backend LokyBackend with 10 concurrent workers.\n",
      "[Parallel(n_jobs=10)]: Done  15 out of  22 | elapsed:   31.3s remaining:   14.6s\n",
      "[Parallel(n_jobs=10)]: Done  22 out of  22 | elapsed:   36.2s finished\n",
      "\n",
      "[2019-01-10 22:14:42] Features: 2/15 -- score: 0.7883640614443038[Parallel(n_jobs=10)]: Using backend LokyBackend with 10 concurrent workers.\n",
      "[Parallel(n_jobs=10)]: Done  13 out of  21 | elapsed:   27.4s remaining:   16.8s\n",
      "[Parallel(n_jobs=10)]: Done  21 out of  21 | elapsed:   31.6s finished\n",
      "\n",
      "[2019-01-10 22:15:14] Features: 3/15 -- score: 0.834617232216555[Parallel(n_jobs=10)]: Using backend LokyBackend with 10 concurrent workers.\n",
      "[Parallel(n_jobs=10)]: Done  12 out of  20 | elapsed:   36.6s remaining:   24.4s\n",
      "[Parallel(n_jobs=10)]: Done  20 out of  20 | elapsed:   41.1s finished\n",
      "\n",
      "[2019-01-10 22:15:55] Features: 4/15 -- score: 0.8516520428058164[Parallel(n_jobs=10)]: Using backend LokyBackend with 10 concurrent workers.\n",
      "[Parallel(n_jobs=10)]: Done  10 out of  19 | elapsed:   40.1s remaining:   36.0s\n",
      "[Parallel(n_jobs=10)]: Done  19 out of  19 | elapsed:   41.6s finished\n",
      "\n",
      "[2019-01-10 22:16:37] Features: 5/15 -- score: 0.8619813292526478[Parallel(n_jobs=10)]: Using backend LokyBackend with 10 concurrent workers.\n",
      "[Parallel(n_jobs=10)]: Done   9 out of  18 | elapsed:   24.1s remaining:   24.1s\n",
      "[Parallel(n_jobs=10)]: Done  18 out of  18 | elapsed:   41.6s finished\n",
      "\n",
      "[2019-01-10 22:17:19] Features: 6/15 -- score: 0.8710836739447498[Parallel(n_jobs=10)]: Using backend LokyBackend with 10 concurrent workers.\n",
      "[Parallel(n_jobs=10)]: Done   7 out of  17 | elapsed:   23.4s remaining:   33.4s\n",
      "[Parallel(n_jobs=10)]: Done  17 out of  17 | elapsed:   46.2s finished\n",
      "\n",
      "[2019-01-10 22:18:05] Features: 7/15 -- score: 0.8747646262418676[Parallel(n_jobs=10)]: Using backend LokyBackend with 10 concurrent workers.\n",
      "[Parallel(n_jobs=10)]: Done   6 out of  16 | elapsed:   27.0s remaining:   45.0s\n",
      "[Parallel(n_jobs=10)]: Done  16 out of  16 | elapsed:   52.5s finished\n",
      "\n",
      "[2019-01-10 22:18:58] Features: 8/15 -- score: 0.877076037986455[Parallel(n_jobs=10)]: Using backend LokyBackend with 10 concurrent workers.\n",
      "[Parallel(n_jobs=10)]: Done   4 out of  15 | elapsed:   32.1s remaining:  1.5min\n",
      "[Parallel(n_jobs=10)]: Done  12 out of  15 | elapsed:   55.8s remaining:   13.9s\n",
      "[Parallel(n_jobs=10)]: Done  15 out of  15 | elapsed:   56.3s finished\n",
      "\n",
      "[2019-01-10 22:19:54] Features: 9/15 -- score: 0.8794442317993084[Parallel(n_jobs=10)]: Using backend LokyBackend with 10 concurrent workers.\n",
      "[Parallel(n_jobs=10)]: Done   3 out of  14 | elapsed:   36.2s remaining:  2.2min\n",
      "[Parallel(n_jobs=10)]: Done  11 out of  14 | elapsed:   57.5s remaining:   15.6s\n",
      "[Parallel(n_jobs=10)]: Done  14 out of  14 | elapsed:   58.1s finished\n",
      "\n",
      "[2019-01-10 22:20:53] Features: 10/15 -- score: 0.8797867610445246[Parallel(n_jobs=10)]: Using backend LokyBackend with 10 concurrent workers.\n",
      "[Parallel(n_jobs=10)]: Done   8 out of  13 | elapsed:   41.3s remaining:   25.8s\n",
      "[Parallel(n_jobs=10)]: Done  13 out of  13 | elapsed:  1.0min finished\n",
      "\n",
      "[2019-01-10 22:21:53] Features: 11/15 -- score: 0.8791302438008598[Parallel(n_jobs=10)]: Using backend LokyBackend with 10 concurrent workers.\n",
      "[Parallel(n_jobs=10)]: Done   7 out of  12 | elapsed:   43.5s remaining:   31.0s\n",
      "[Parallel(n_jobs=10)]: Done  12 out of  12 | elapsed:  1.0min finished\n",
      "\n",
      "[2019-01-10 22:22:54] Features: 12/15 -- score: 0.8806711979787508[Parallel(n_jobs=10)]: Using backend LokyBackend with 10 concurrent workers.\n",
      "[Parallel(n_jobs=10)]: Done   4 out of  11 | elapsed:   47.3s remaining:  1.4min\n",
      "[Parallel(n_jobs=10)]: Done  11 out of  11 | elapsed:  1.0min finished\n",
      "\n",
      "[2019-01-10 22:23:57] Features: 13/15 -- score: 0.8817556630696993[Parallel(n_jobs=10)]: Using backend LokyBackend with 10 concurrent workers.\n",
      "[Parallel(n_jobs=10)]: Done   3 out of  10 | elapsed:   51.5s remaining:  2.0min\n",
      "[Parallel(n_jobs=10)]: Done  10 out of  10 | elapsed:  1.1min finished\n",
      "\n",
      "[2019-01-10 22:25:02] Features: 14/15 -- score: 0.8813846682837466[Parallel(n_jobs=9)]: Using backend LokyBackend with 9 concurrent workers.\n",
      "[Parallel(n_jobs=9)]: Done   2 out of   9 | elapsed:   57.1s remaining:  3.3min\n",
      "[Parallel(n_jobs=9)]: Done   7 out of   9 | elapsed:   58.7s remaining:   16.7s\n",
      "[Parallel(n_jobs=9)]: Done   9 out of   9 | elapsed:   59.1s finished\n",
      "\n",
      "[2019-01-10 22:26:02] Features: 15/15 -- score: 0.8831252402766538"
     ]
    },
    {
     "data": {
      "text/plain": [
       "{1: {'feature_idx': (11,),\n",
       "  'cv_scores': array([0.73654027, 0.72907036, 0.73906344]),\n",
       "  'avg_score': 0.7348913577345249,\n",
       "  'feature_names': ('BILL_AMT1',)},\n",
       " 2: {'feature_idx': (5, 11),\n",
       "  'cv_scores': array([0.78413079, 0.78993323, 0.79102817]),\n",
       "  'avg_score': 0.7883640614443038,\n",
       "  'feature_names': ('PAY_0', 'BILL_AMT1')},\n",
       " 3: {'feature_idx': (5, 11, 14),\n",
       "  'cv_scores': array([0.83608662, 0.83615819, 0.83160688]),\n",
       "  'avg_score': 0.834617232216555,\n",
       "  'feature_names': ('PAY_0', 'BILL_AMT1', 'BILL_AMT4')},\n",
       " 4: {'feature_idx': (4, 5, 11, 14),\n",
       "  'cv_scores': array([0.85303432, 0.85139531, 0.8505265 ]),\n",
       "  'avg_score': 0.8516520428058164,\n",
       "  'feature_names': ('AGE', 'PAY_0', 'BILL_AMT1', 'BILL_AMT4')},\n",
       " 5: {'feature_idx': (0, 4, 5, 11, 14),\n",
       "  'cv_scores': array([0.86236412, 0.86355076, 0.86002911]),\n",
       "  'avg_score': 0.8619813292526478,\n",
       "  'feature_names': ('LIMIT_BAL', 'AGE', 'PAY_0', 'BILL_AMT1', 'BILL_AMT4')},\n",
       " 6: {'feature_idx': (0, 4, 5, 11, 14, 22),\n",
       "  'cv_scores': array([0.87169391, 0.87142613, 0.87013098]),\n",
       "  'avg_score': 0.8710836739447498,\n",
       "  'feature_names': ('LIMIT_BAL',\n",
       "   'AGE',\n",
       "   'PAY_0',\n",
       "   'BILL_AMT1',\n",
       "   'BILL_AMT4',\n",
       "   'PAY_AMT6')},\n",
       " 7: {'feature_idx': (0, 4, 5, 11, 14, 17, 22),\n",
       "  'cv_scores': array([0.87357699, 0.87604862, 0.87466826]),\n",
       "  'avg_score': 0.8747646262418676,\n",
       "  'feature_names': ('LIMIT_BAL',\n",
       "   'AGE',\n",
       "   'PAY_0',\n",
       "   'BILL_AMT1',\n",
       "   'BILL_AMT4',\n",
       "   'PAY_AMT1',\n",
       "   'PAY_AMT6')},\n",
       " 8: {'feature_idx': (0, 4, 5, 11, 14, 17, 21, 22),\n",
       "  'cv_scores': array([0.87468972, 0.8750214 , 0.88151699]),\n",
       "  'avg_score': 0.877076037986455,\n",
       "  'feature_names': ('LIMIT_BAL',\n",
       "   'AGE',\n",
       "   'PAY_0',\n",
       "   'BILL_AMT1',\n",
       "   'BILL_AMT4',\n",
       "   'PAY_AMT1',\n",
       "   'PAY_AMT5',\n",
       "   'PAY_AMT6')},\n",
       " 9: {'feature_idx': (0, 4, 5, 11, 14, 15, 17, 21, 22),\n",
       "  'cv_scores': array([0.87948301, 0.87681904, 0.88203065]),\n",
       "  'avg_score': 0.8794442317993084,\n",
       "  'feature_names': ('LIMIT_BAL',\n",
       "   'AGE',\n",
       "   'PAY_0',\n",
       "   'BILL_AMT1',\n",
       "   'BILL_AMT4',\n",
       "   'BILL_AMT5',\n",
       "   'PAY_AMT1',\n",
       "   'PAY_AMT5',\n",
       "   'PAY_AMT6')},\n",
       " 10: {'feature_idx': (0, 4, 5, 11, 13, 14, 15, 17, 21, 22),\n",
       "  'cv_scores': array([0.87640161, 0.8797295 , 0.88322918]),\n",
       "  'avg_score': 0.8797867610445246,\n",
       "  'feature_names': ('LIMIT_BAL',\n",
       "   'AGE',\n",
       "   'PAY_0',\n",
       "   'BILL_AMT1',\n",
       "   'BILL_AMT3',\n",
       "   'BILL_AMT4',\n",
       "   'BILL_AMT5',\n",
       "   'PAY_AMT1',\n",
       "   'PAY_AMT5',\n",
       "   'PAY_AMT6')},\n",
       " 11: {'feature_idx': (0, 2, 4, 5, 11, 13, 14, 15, 17, 21, 22),\n",
       "  'cv_scores': array([0.88085252, 0.87716144, 0.87937677]),\n",
       "  'avg_score': 0.8791302438008598,\n",
       "  'feature_names': ('LIMIT_BAL',\n",
       "   'EDUCATION',\n",
       "   'AGE',\n",
       "   'PAY_0',\n",
       "   'BILL_AMT1',\n",
       "   'BILL_AMT3',\n",
       "   'BILL_AMT4',\n",
       "   'BILL_AMT5',\n",
       "   'PAY_AMT1',\n",
       "   'PAY_AMT5',\n",
       "   'PAY_AMT6')},\n",
       " 12: {'feature_idx': (0, 2, 4, 5, 11, 13, 14, 15, 17, 19, 21, 22),\n",
       "  'cv_scores': array([0.87888385, 0.88144153, 0.88168821]),\n",
       "  'avg_score': 0.8806711979787508,\n",
       "  'feature_names': ('LIMIT_BAL',\n",
       "   'EDUCATION',\n",
       "   'AGE',\n",
       "   'PAY_0',\n",
       "   'BILL_AMT1',\n",
       "   'BILL_AMT3',\n",
       "   'BILL_AMT4',\n",
       "   'BILL_AMT5',\n",
       "   'PAY_AMT1',\n",
       "   'PAY_AMT3',\n",
       "   'PAY_AMT5',\n",
       "   'PAY_AMT6')},\n",
       " 13: {'feature_idx': (0, 2, 4, 5, 11, 12, 13, 14, 15, 17, 19, 21, 22),\n",
       "  'cv_scores': array([0.87725755, 0.88178394, 0.88622549]),\n",
       "  'avg_score': 0.8817556630696993,\n",
       "  'feature_names': ('LIMIT_BAL',\n",
       "   'EDUCATION',\n",
       "   'AGE',\n",
       "   'PAY_0',\n",
       "   'BILL_AMT1',\n",
       "   'BILL_AMT2',\n",
       "   'BILL_AMT3',\n",
       "   'BILL_AMT4',\n",
       "   'BILL_AMT5',\n",
       "   'PAY_AMT1',\n",
       "   'PAY_AMT3',\n",
       "   'PAY_AMT5',\n",
       "   'PAY_AMT6')},\n",
       " 14: {'feature_idx': (0, 2, 3, 4, 5, 11, 12, 13, 14, 15, 17, 19, 21, 22),\n",
       "  'cv_scores': array([0.8780279 , 0.88101353, 0.88511258]),\n",
       "  'avg_score': 0.8813846682837466,\n",
       "  'feature_names': ('LIMIT_BAL',\n",
       "   'EDUCATION',\n",
       "   'MARRIAGE',\n",
       "   'AGE',\n",
       "   'PAY_0',\n",
       "   'BILL_AMT1',\n",
       "   'BILL_AMT2',\n",
       "   'BILL_AMT3',\n",
       "   'BILL_AMT4',\n",
       "   'BILL_AMT5',\n",
       "   'PAY_AMT1',\n",
       "   'PAY_AMT3',\n",
       "   'PAY_AMT5',\n",
       "   'PAY_AMT6')},\n",
       " 15: {'feature_idx': (0, 2, 3, 4, 5, 11, 12, 13, 14, 15, 16, 17, 19, 21, 22),\n",
       "  'cv_scores': array([0.88068133, 0.88084232, 0.88785207]),\n",
       "  'avg_score': 0.8831252402766538,\n",
       "  'feature_names': ('LIMIT_BAL',\n",
       "   'EDUCATION',\n",
       "   'MARRIAGE',\n",
       "   'AGE',\n",
       "   'PAY_0',\n",
       "   'BILL_AMT1',\n",
       "   'BILL_AMT2',\n",
       "   'BILL_AMT3',\n",
       "   'BILL_AMT4',\n",
       "   'BILL_AMT5',\n",
       "   'BILL_AMT6',\n",
       "   'PAY_AMT1',\n",
       "   'PAY_AMT3',\n",
       "   'PAY_AMT5',\n",
       "   'PAY_AMT6')}}"
      ]
     },
     "execution_count": 93,
     "metadata": {},
     "output_type": "execute_result"
    }
   ],
   "source": [
    "feature_names = ('LIMIT_BAL', 'SEX', 'EDUCATION', 'MARRIAGE', 'AGE', 'PAY_0','PAY_2', 'PAY_3', 'PAY_4', 'PAY_5', \n",
    "                 'PAY_6', 'BILL_AMT1', 'BILL_AMT2', 'BILL_AMT3', 'BILL_AMT4', 'BILL_AMT5','BILL_AMT6', 'PAY_AMT1', \n",
    "                 'PAY_AMT2', 'PAY_AMT3', 'PAY_AMT4', 'PAY_AMT5', 'PAY_AMT6')\n",
    "sfs1 = sfs1.fit(X_train, y_train, custom_feature_names=feature_names)\n",
    "sfs1.subsets_"
   ]
  },
  {
   "cell_type": "code",
   "execution_count": 94,
   "metadata": {},
   "outputs": [
    {
     "data": {
      "text/plain": [
       "(0, 2, 3, 4, 5, 11, 12, 13, 14, 15, 16, 17, 19, 21, 22)"
      ]
     },
     "execution_count": 94,
     "metadata": {},
     "output_type": "execute_result"
    }
   ],
   "source": [
    "sfs1.k_feature_idx_"
   ]
  },
  {
   "cell_type": "code",
   "execution_count": 95,
   "metadata": {},
   "outputs": [
    {
     "data": {
      "text/plain": [
       "('LIMIT_BAL',\n",
       " 'EDUCATION',\n",
       " 'MARRIAGE',\n",
       " 'AGE',\n",
       " 'PAY_0',\n",
       " 'BILL_AMT1',\n",
       " 'BILL_AMT2',\n",
       " 'BILL_AMT3',\n",
       " 'BILL_AMT4',\n",
       " 'BILL_AMT5',\n",
       " 'BILL_AMT6',\n",
       " 'PAY_AMT1',\n",
       " 'PAY_AMT3',\n",
       " 'PAY_AMT5',\n",
       " 'PAY_AMT6')"
      ]
     },
     "execution_count": 95,
     "metadata": {},
     "output_type": "execute_result"
    }
   ],
   "source": [
    "sfs1.k_feature_names_"
   ]
  },
  {
   "cell_type": "code",
   "execution_count": 96,
   "metadata": {},
   "outputs": [
    {
     "data": {
      "text/plain": [
       "0.8831252402766538"
      ]
     },
     "execution_count": 96,
     "metadata": {},
     "output_type": "execute_result"
    }
   ],
   "source": [
    "sfs1.k_score_"
   ]
  },
  {
   "cell_type": "markdown",
   "metadata": {},
   "source": [
    "### Plotting the results"
   ]
  },
  {
   "cell_type": "code",
   "execution_count": 97,
   "metadata": {},
   "outputs": [],
   "source": [
    "from mlxtend.plotting import plot_sequential_feature_selection as plot_sfs\n",
    "import matplotlib.pyplot as plt"
   ]
  },
  {
   "cell_type": "code",
   "execution_count": 98,
   "metadata": {
    "scrolled": false
   },
   "outputs": [
    {
     "name": "stderr",
     "output_type": "stream",
     "text": [
      "[Parallel(n_jobs=1)]: Using backend SequentialBackend with 1 concurrent workers.\n",
      "[Parallel(n_jobs=1)]: Done   1 out of   1 | elapsed:    0.3s remaining:    0.0s\n",
      "[Parallel(n_jobs=1)]: Done  23 out of  23 | elapsed:   33.9s finished\n",
      "\n",
      "[2019-01-10 22:26:36] Features: 1/23 -- score: 0.7349484329056226[Parallel(n_jobs=1)]: Using backend SequentialBackend with 1 concurrent workers.\n",
      "[Parallel(n_jobs=1)]: Done   1 out of   1 | elapsed:    2.3s remaining:    0.0s\n",
      "[Parallel(n_jobs=1)]: Done  22 out of  22 | elapsed:  1.1min finished\n",
      "\n",
      "[2019-01-10 22:27:42] Features: 2/23 -- score: 0.7892485570031944[Parallel(n_jobs=1)]: Using backend SequentialBackend with 1 concurrent workers.\n",
      "[Parallel(n_jobs=1)]: Done   1 out of   1 | elapsed:    2.3s remaining:    0.0s\n",
      "[Parallel(n_jobs=1)]: Done  21 out of  21 | elapsed:   57.8s finished\n",
      "\n",
      "[2019-01-10 22:28:40] Features: 3/23 -- score: 0.8331337049343305[Parallel(n_jobs=1)]: Using backend SequentialBackend with 1 concurrent workers.\n",
      "[Parallel(n_jobs=1)]: Done   1 out of   1 | elapsed:    3.6s remaining:    0.0s\n",
      "[Parallel(n_jobs=1)]: Done  20 out of  20 | elapsed:  1.3min finished\n",
      "\n",
      "[2019-01-10 22:29:56] Features: 4/23 -- score: 0.8509103194688475[Parallel(n_jobs=1)]: Using backend SequentialBackend with 1 concurrent workers.\n",
      "[Parallel(n_jobs=1)]: Done   1 out of   1 | elapsed:    4.8s remaining:    0.0s\n",
      "[Parallel(n_jobs=1)]: Done  19 out of  19 | elapsed:  1.6min finished\n",
      "\n",
      "[2019-01-10 22:31:34] Features: 5/23 -- score: 0.8613251588547145[Parallel(n_jobs=1)]: Using backend SequentialBackend with 1 concurrent workers.\n",
      "[Parallel(n_jobs=1)]: Done   1 out of   1 | elapsed:    5.3s remaining:    0.0s\n",
      "[Parallel(n_jobs=1)]: Done  18 out of  18 | elapsed:  1.7min finished\n",
      "\n",
      "[2019-01-10 22:33:19] Features: 6/23 -- score: 0.8678880817415252[Parallel(n_jobs=1)]: Using backend SequentialBackend with 1 concurrent workers.\n",
      "[Parallel(n_jobs=1)]: Done   1 out of   1 | elapsed:    6.5s remaining:    0.0s\n",
      "[Parallel(n_jobs=1)]: Done  17 out of  17 | elapsed:  2.0min finished\n",
      "\n",
      "[2019-01-10 22:35:19] Features: 7/23 -- score: 0.8715974922515054[Parallel(n_jobs=1)]: Using backend SequentialBackend with 1 concurrent workers.\n",
      "[Parallel(n_jobs=1)]: Done   1 out of   1 | elapsed:    7.7s remaining:    0.0s\n",
      "[Parallel(n_jobs=1)]: Done  16 out of  16 | elapsed:  2.2min finished\n",
      "\n",
      "[2019-01-10 22:37:32] Features: 8/23 -- score: 0.873423514579413[Parallel(n_jobs=1)]: Using backend SequentialBackend with 1 concurrent workers.\n",
      "[Parallel(n_jobs=1)]: Done   1 out of   1 | elapsed:    7.8s remaining:    0.0s\n",
      "[Parallel(n_jobs=1)]: Done  15 out of  15 | elapsed:  2.1min finished\n",
      "\n",
      "[2019-01-10 22:39:38] Features: 9/23 -- score: 0.8755066182653186[Parallel(n_jobs=1)]: Using backend SequentialBackend with 1 concurrent workers.\n",
      "[Parallel(n_jobs=1)]: Done   1 out of   1 | elapsed:    8.4s remaining:    0.0s\n",
      "[Parallel(n_jobs=1)]: Done  14 out of  14 | elapsed:  2.0min finished\n",
      "\n",
      "[2019-01-10 22:41:38] Features: 10/23 -- score: 0.8763910551991266[Parallel(n_jobs=1)]: Using backend SequentialBackend with 1 concurrent workers.\n",
      "[Parallel(n_jobs=1)]: Done   1 out of   1 | elapsed:    8.5s remaining:    0.0s\n",
      "[Parallel(n_jobs=1)]: Done  13 out of  13 | elapsed:  1.9min finished\n",
      "\n",
      "[2019-01-10 22:43:34] Features: 11/23 -- score: 0.8777321693051815[Parallel(n_jobs=1)]: Using backend SequentialBackend with 1 concurrent workers.\n",
      "[Parallel(n_jobs=1)]: Done   1 out of   1 | elapsed:    9.5s remaining:    0.0s\n",
      "[Parallel(n_jobs=1)]: Done  12 out of  12 | elapsed:  2.0min finished\n",
      "\n",
      "[2019-01-10 22:45:32] Features: 12/23 -- score: 0.8793018357329415[Parallel(n_jobs=1)]: Using backend SequentialBackend with 1 concurrent workers.\n",
      "[Parallel(n_jobs=1)]: Done   1 out of   1 | elapsed:    9.7s remaining:    0.0s\n",
      "[Parallel(n_jobs=1)]: Done  11 out of  11 | elapsed:  1.8min finished\n",
      "\n",
      "[2019-01-10 22:47:23] Features: 13/23 -- score: 0.879044798340933[Parallel(n_jobs=1)]: Using backend SequentialBackend with 1 concurrent workers.\n",
      "[Parallel(n_jobs=1)]: Done   1 out of   1 | elapsed:   11.0s remaining:    0.0s\n",
      "[Parallel(n_jobs=1)]: Done  10 out of  10 | elapsed:  1.8min finished\n",
      "\n",
      "[2019-01-10 22:49:13] Features: 14/23 -- score: 0.8802147113354087[Parallel(n_jobs=1)]: Using backend SequentialBackend with 1 concurrent workers.\n",
      "[Parallel(n_jobs=1)]: Done   1 out of   1 | elapsed:   11.2s remaining:    0.0s\n",
      "[Parallel(n_jobs=1)]: Done   9 out of   9 | elapsed:  1.8min finished\n",
      "\n",
      "[2019-01-10 22:50:59] Features: 15/23 -- score: 0.8799008356898884[Parallel(n_jobs=1)]: Using backend SequentialBackend with 1 concurrent workers.\n",
      "[Parallel(n_jobs=1)]: Done   1 out of   1 | elapsed:   11.7s remaining:    0.0s\n",
      "[Parallel(n_jobs=1)]: Done   8 out of   8 | elapsed:  1.6min finished\n",
      "\n",
      "[2019-01-10 22:52:36] Features: 16/23 -- score: 0.8836389071399836[Parallel(n_jobs=1)]: Using backend SequentialBackend with 1 concurrent workers.\n",
      "[Parallel(n_jobs=1)]: Done   1 out of   1 | elapsed:   12.8s remaining:    0.0s\n",
      "[Parallel(n_jobs=1)]: Done   7 out of   7 | elapsed:  1.5min finished\n",
      "\n",
      "[2019-01-10 22:54:07] Features: 17/23 -- score: 0.8825260620054586[Parallel(n_jobs=1)]: Using backend SequentialBackend with 1 concurrent workers.\n",
      "[Parallel(n_jobs=1)]: Done   1 out of   1 | elapsed:   13.6s remaining:    0.0s\n",
      "[Parallel(n_jobs=1)]: Done   6 out of   6 | elapsed:  1.4min finished\n",
      "\n",
      "[2019-01-10 22:55:31] Features: 18/23 -- score: 0.8849227921849878[Parallel(n_jobs=1)]: Using backend SequentialBackend with 1 concurrent workers.\n",
      "[Parallel(n_jobs=1)]: Done   1 out of   1 | elapsed:   14.9s remaining:    0.0s\n",
      "[Parallel(n_jobs=1)]: Done   5 out of   5 | elapsed:  1.3min finished\n",
      "\n",
      "[2019-01-10 22:56:47] Features: 19/23 -- score: 0.8836958015749777[Parallel(n_jobs=1)]: Using backend SequentialBackend with 1 concurrent workers.\n",
      "[Parallel(n_jobs=1)]: Done   1 out of   1 | elapsed:   15.3s remaining:    0.0s\n",
      "[Parallel(n_jobs=1)]: Done   4 out of   4 | elapsed:  1.0min finished\n",
      "\n",
      "[2019-01-10 22:57:48] Features: 20/23 -- score: 0.8818411866867849[Parallel(n_jobs=1)]: Using backend SequentialBackend with 1 concurrent workers.\n",
      "[Parallel(n_jobs=1)]: Done   1 out of   1 | elapsed:   15.8s remaining:    0.0s\n",
      "[Parallel(n_jobs=1)]: Done   3 out of   3 | elapsed:   50.0s finished\n",
      "\n",
      "[2019-01-10 22:58:38] Features: 21/23 -- score: 0.8837244796182048[Parallel(n_jobs=1)]: Using backend SequentialBackend with 1 concurrent workers.\n",
      "[Parallel(n_jobs=1)]: Done   1 out of   1 | elapsed:   16.2s remaining:    0.0s\n",
      "[Parallel(n_jobs=1)]: Done   2 out of   2 | elapsed:   32.7s finished\n",
      "\n",
      "[2019-01-10 22:59:11] Features: 22/23 -- score: 0.8838955952401513[Parallel(n_jobs=1)]: Using backend SequentialBackend with 1 concurrent workers.\n",
      "[Parallel(n_jobs=1)]: Done   1 out of   1 | elapsed:   17.8s remaining:    0.0s\n",
      "[Parallel(n_jobs=1)]: Done   1 out of   1 | elapsed:   17.8s finished\n",
      "\n",
      "[2019-01-10 22:59:29] Features: 23/23 -- score: 0.8822690832364417"
     ]
    },
    {
     "data": {
      "image/png": "[encoded data removed]",
      "text/plain": [
       "<Figure size 1152x576 with 1 Axes>"
      ]
     },
     "metadata": {},
     "output_type": "display_data"
    }
   ],
   "source": [
    "sfs = sfs(clf, \n",
    "          k_features=23, \n",
    "          forward=True, \n",
    "          floating=False, \n",
    "          scoring='accuracy',\n",
    "          verbose=2,\n",
    "          cv=3)\n",
    "\n",
    "sfs = sfs.fit(X_train, y_train)\n",
    "\n",
    "fig1 = plot_sfs(sfs.get_metric_dict(), kind='std_dev')\n",
    "\n",
    "plt.ylim([0.8, 1])\n",
    "plt.title('Sequential Forward Selection (w. StdDev)')\n",
    "plt.grid()\n",
    "plt.show()"
   ]
  },
  {
   "cell_type": "markdown",
   "metadata": {},
   "source": [
    "- From the plot above about 11 features are able to explain significantly changes in the dependent variable\n",
    "- This implies that some of the features are redundant"
   ]
  },
  {
   "cell_type": "markdown",
   "metadata": {},
   "source": [
    "### Building the Model with Selected Features only"
   ]
  },
  {
   "cell_type": "code",
   "execution_count": 100,
   "metadata": {},
   "outputs": [
    {
     "name": "stdout",
     "output_type": "stream",
     "text": [
      "Training accuracy on selected features: 0.997\n",
      "Testing accuracy on selected features: 0.922\n"
     ]
    }
   ],
   "source": [
    "clf =  BaggingClassifier(n_estimators=18)\n",
    "clf.fit(X_train[:, feat_cols], y_train)\n",
    "\n",
    "y_train_pred = clf.predict(X_train[:, feat_cols])\n",
    "print('Training accuracy on selected features: %.3f' % acc(y_train, y_train_pred))\n",
    "\n",
    "y_test_pred = clf.predict(X_test[:, feat_cols])\n",
    "print('Testing accuracy on selected features: %.3f' % acc(y_test, y_test_pred))"
   ]
  },
  {
   "cell_type": "markdown",
   "metadata": {},
   "source": [
    "### Building the Model with ALL features for comparison"
   ]
  },
  {
   "cell_type": "code",
   "execution_count": 101,
   "metadata": {},
   "outputs": [
    {
     "name": "stdout",
     "output_type": "stream",
     "text": [
      "Training accuracy on all features: 0.998\n",
      "Testing accuracy on all features: 0.924\n"
     ]
    }
   ],
   "source": [
    "clf = BaggingClassifier(n_estimators=18)\n",
    "clf.fit(X_train, y_train)\n",
    "\n",
    "y_train_pred = clf.predict(X_train)\n",
    "print('Training accuracy on all features: %.3f' % acc(y_train, y_train_pred))\n",
    "\n",
    "y_test_pred = clf.predict(X_test)\n",
    "print('Testing accuracy on all features: %.3f' % acc(y_test, y_test_pred))"
   ]
  },
  {
   "cell_type": "markdown",
   "metadata": {},
   "source": [
    "- Building the model with just 15 features yield an accuracy of over 90% about the same level of accuracy as using all features\n",
    "- This implies that 15 features out of the 23 features significantly explain the variance in the dependent variable\n",
    "- 8 of the features are generally redundant using the Bagging classifier"
   ]
  },
  {
   "cell_type": "markdown",
   "metadata": {},
   "source": [
    "### Feature Importance and Selection with Random Forest "
   ]
  },
  {
   "cell_type": "code",
   "execution_count": 103,
   "metadata": {},
   "outputs": [
    {
     "name": "stdout",
     "output_type": "stream",
     "text": [
      "[0.06210186 0.0112634  0.02048472 0.01277407 0.06271525 0.10038758\n",
      " 0.0422186  0.02894332 0.02087571 0.01905668 0.01759456 0.06199052\n",
      " 0.05426511 0.05048378 0.04965547 0.0490481  0.04923706 0.0522107\n",
      " 0.05150518 0.04836266 0.04455761 0.04389956 0.0463685 ]\n"
     ]
    }
   ],
   "source": [
    "rf = RandomForestClassifier(n_estimators=450)\n",
    "#rf_params = {'n_estimators': np.arange(50,500,50)}\n",
    "#rf_grid = RandomizedSearchCV(rf, param_distributions=rf_params, refit=True)\n",
    "rf.fit(X_train, y_train)\n",
    "y_pred_rf = rf.predict(X_test)\n",
    "print(rf.feature_importances_)"
   ]
  },
  {
   "cell_type": "code",
   "execution_count": 104,
   "metadata": {},
   "outputs": [
    {
     "data": {
      "text/html": [
       "<div>\n",
       "<style scoped>\n",
       "    .dataframe tbody tr th:only-of-type {\n",
       "        vertical-align: middle;\n",
       "    }\n",
       "\n",
       "    .dataframe tbody tr th {\n",
       "        vertical-align: top;\n",
       "    }\n",
       "\n",
       "    .dataframe thead th {\n",
       "        text-align: right;\n",
       "    }\n",
       "</style>\n",
       "<table border=\"1\" class=\"dataframe\">\n",
       "  <thead>\n",
       "    <tr style=\"text-align: right;\">\n",
       "      <th></th>\n",
       "      <th>LIMIT_BAL</th>\n",
       "      <th>SEX</th>\n",
       "      <th>EDUCATION</th>\n",
       "      <th>MARRIAGE</th>\n",
       "      <th>AGE</th>\n",
       "      <th>PAY_0</th>\n",
       "      <th>PAY_2</th>\n",
       "      <th>PAY_3</th>\n",
       "      <th>PAY_4</th>\n",
       "      <th>PAY_5</th>\n",
       "      <th>...</th>\n",
       "      <th>BILL_AMT4</th>\n",
       "      <th>BILL_AMT5</th>\n",
       "      <th>BILL_AMT6</th>\n",
       "      <th>PAY_AMT1</th>\n",
       "      <th>PAY_AMT2</th>\n",
       "      <th>PAY_AMT3</th>\n",
       "      <th>PAY_AMT4</th>\n",
       "      <th>PAY_AMT5</th>\n",
       "      <th>PAY_AMT6</th>\n",
       "      <th>default payment next month</th>\n",
       "    </tr>\n",
       "  </thead>\n",
       "  <tbody>\n",
       "    <tr>\n",
       "      <th>0</th>\n",
       "      <td>20000</td>\n",
       "      <td>2</td>\n",
       "      <td>2</td>\n",
       "      <td>1</td>\n",
       "      <td>24</td>\n",
       "      <td>2</td>\n",
       "      <td>2</td>\n",
       "      <td>-1</td>\n",
       "      <td>-1</td>\n",
       "      <td>-2</td>\n",
       "      <td>...</td>\n",
       "      <td>0</td>\n",
       "      <td>0</td>\n",
       "      <td>0</td>\n",
       "      <td>0</td>\n",
       "      <td>689</td>\n",
       "      <td>0</td>\n",
       "      <td>0</td>\n",
       "      <td>0</td>\n",
       "      <td>0</td>\n",
       "      <td>1</td>\n",
       "    </tr>\n",
       "    <tr>\n",
       "      <th>1</th>\n",
       "      <td>120000</td>\n",
       "      <td>2</td>\n",
       "      <td>2</td>\n",
       "      <td>2</td>\n",
       "      <td>26</td>\n",
       "      <td>-1</td>\n",
       "      <td>2</td>\n",
       "      <td>0</td>\n",
       "      <td>0</td>\n",
       "      <td>0</td>\n",
       "      <td>...</td>\n",
       "      <td>3272</td>\n",
       "      <td>3455</td>\n",
       "      <td>3261</td>\n",
       "      <td>0</td>\n",
       "      <td>1000</td>\n",
       "      <td>1000</td>\n",
       "      <td>1000</td>\n",
       "      <td>0</td>\n",
       "      <td>2000</td>\n",
       "      <td>1</td>\n",
       "    </tr>\n",
       "    <tr>\n",
       "      <th>2</th>\n",
       "      <td>90000</td>\n",
       "      <td>2</td>\n",
       "      <td>2</td>\n",
       "      <td>2</td>\n",
       "      <td>34</td>\n",
       "      <td>0</td>\n",
       "      <td>0</td>\n",
       "      <td>0</td>\n",
       "      <td>0</td>\n",
       "      <td>0</td>\n",
       "      <td>...</td>\n",
       "      <td>14331</td>\n",
       "      <td>14948</td>\n",
       "      <td>15549</td>\n",
       "      <td>1518</td>\n",
       "      <td>1500</td>\n",
       "      <td>1000</td>\n",
       "      <td>1000</td>\n",
       "      <td>1000</td>\n",
       "      <td>5000</td>\n",
       "      <td>0</td>\n",
       "    </tr>\n",
       "    <tr>\n",
       "      <th>3</th>\n",
       "      <td>50000</td>\n",
       "      <td>2</td>\n",
       "      <td>2</td>\n",
       "      <td>1</td>\n",
       "      <td>37</td>\n",
       "      <td>0</td>\n",
       "      <td>0</td>\n",
       "      <td>0</td>\n",
       "      <td>0</td>\n",
       "      <td>0</td>\n",
       "      <td>...</td>\n",
       "      <td>28314</td>\n",
       "      <td>28959</td>\n",
       "      <td>29547</td>\n",
       "      <td>2000</td>\n",
       "      <td>2019</td>\n",
       "      <td>1200</td>\n",
       "      <td>1100</td>\n",
       "      <td>1069</td>\n",
       "      <td>1000</td>\n",
       "      <td>0</td>\n",
       "    </tr>\n",
       "    <tr>\n",
       "      <th>4</th>\n",
       "      <td>50000</td>\n",
       "      <td>1</td>\n",
       "      <td>2</td>\n",
       "      <td>1</td>\n",
       "      <td>57</td>\n",
       "      <td>-1</td>\n",
       "      <td>0</td>\n",
       "      <td>-1</td>\n",
       "      <td>0</td>\n",
       "      <td>0</td>\n",
       "      <td>...</td>\n",
       "      <td>20940</td>\n",
       "      <td>19146</td>\n",
       "      <td>19131</td>\n",
       "      <td>2000</td>\n",
       "      <td>36681</td>\n",
       "      <td>10000</td>\n",
       "      <td>9000</td>\n",
       "      <td>689</td>\n",
       "      <td>679</td>\n",
       "      <td>0</td>\n",
       "    </tr>\n",
       "  </tbody>\n",
       "</table>\n",
       "<p>5 rows × 24 columns</p>\n",
       "</div>"
      ],
      "text/plain": [
       "   LIMIT_BAL  SEX  EDUCATION  MARRIAGE  AGE  PAY_0  PAY_2  PAY_3  PAY_4  \\\n",
       "0      20000    2          2         1   24      2      2     -1     -1   \n",
       "1     120000    2          2         2   26     -1      2      0      0   \n",
       "2      90000    2          2         2   34      0      0      0      0   \n",
       "3      50000    2          2         1   37      0      0      0      0   \n",
       "4      50000    1          2         1   57     -1      0     -1      0   \n",
       "\n",
       "   PAY_5             ...              BILL_AMT4  BILL_AMT5  BILL_AMT6  \\\n",
       "0     -2             ...                      0          0          0   \n",
       "1      0             ...                   3272       3455       3261   \n",
       "2      0             ...                  14331      14948      15549   \n",
       "3      0             ...                  28314      28959      29547   \n",
       "4      0             ...                  20940      19146      19131   \n",
       "\n",
       "   PAY_AMT1  PAY_AMT2  PAY_AMT3  PAY_AMT4  PAY_AMT5  PAY_AMT6  \\\n",
       "0         0       689         0         0         0         0   \n",
       "1         0      1000      1000      1000         0      2000   \n",
       "2      1518      1500      1000      1000      1000      5000   \n",
       "3      2000      2019      1200      1100      1069      1000   \n",
       "4      2000     36681     10000      9000       689       679   \n",
       "\n",
       "   default payment next month  \n",
       "0                           1  \n",
       "1                           1  \n",
       "2                           0  \n",
       "3                           0  \n",
       "4                           0  \n",
       "\n",
       "[5 rows x 24 columns]"
      ]
     },
     "execution_count": 104,
     "metadata": {},
     "output_type": "execute_result"
    }
   ],
   "source": [
    "# Selecting Features from the dataset to feed into the model\n",
    "data.head()"
   ]
  },
  {
   "cell_type": "code",
   "execution_count": 105,
   "metadata": {},
   "outputs": [
    {
     "data": {
      "text/plain": [
       "22"
      ]
     },
     "execution_count": 105,
     "metadata": {},
     "output_type": "execute_result"
    }
   ],
   "source": [
    "data.columns.get_loc('PAY_AMT6')"
   ]
  },
  {
   "cell_type": "code",
   "execution_count": 106,
   "metadata": {},
   "outputs": [],
   "source": [
    "data1 = data.iloc[:,0:23]"
   ]
  },
  {
   "cell_type": "code",
   "execution_count": 107,
   "metadata": {},
   "outputs": [
    {
     "data": {
      "text/html": [
       "<div>\n",
       "<style scoped>\n",
       "    .dataframe tbody tr th:only-of-type {\n",
       "        vertical-align: middle;\n",
       "    }\n",
       "\n",
       "    .dataframe tbody tr th {\n",
       "        vertical-align: top;\n",
       "    }\n",
       "\n",
       "    .dataframe thead th {\n",
       "        text-align: right;\n",
       "    }\n",
       "</style>\n",
       "<table border=\"1\" class=\"dataframe\">\n",
       "  <thead>\n",
       "    <tr style=\"text-align: right;\">\n",
       "      <th></th>\n",
       "      <th>LIMIT_BAL</th>\n",
       "      <th>SEX</th>\n",
       "      <th>EDUCATION</th>\n",
       "      <th>MARRIAGE</th>\n",
       "      <th>AGE</th>\n",
       "      <th>PAY_0</th>\n",
       "      <th>PAY_2</th>\n",
       "      <th>PAY_3</th>\n",
       "      <th>PAY_4</th>\n",
       "      <th>PAY_5</th>\n",
       "      <th>...</th>\n",
       "      <th>BILL_AMT3</th>\n",
       "      <th>BILL_AMT4</th>\n",
       "      <th>BILL_AMT5</th>\n",
       "      <th>BILL_AMT6</th>\n",
       "      <th>PAY_AMT1</th>\n",
       "      <th>PAY_AMT2</th>\n",
       "      <th>PAY_AMT3</th>\n",
       "      <th>PAY_AMT4</th>\n",
       "      <th>PAY_AMT5</th>\n",
       "      <th>PAY_AMT6</th>\n",
       "    </tr>\n",
       "  </thead>\n",
       "  <tbody>\n",
       "    <tr>\n",
       "      <th>0</th>\n",
       "      <td>20000</td>\n",
       "      <td>2</td>\n",
       "      <td>2</td>\n",
       "      <td>1</td>\n",
       "      <td>24</td>\n",
       "      <td>2</td>\n",
       "      <td>2</td>\n",
       "      <td>-1</td>\n",
       "      <td>-1</td>\n",
       "      <td>-2</td>\n",
       "      <td>...</td>\n",
       "      <td>689</td>\n",
       "      <td>0</td>\n",
       "      <td>0</td>\n",
       "      <td>0</td>\n",
       "      <td>0</td>\n",
       "      <td>689</td>\n",
       "      <td>0</td>\n",
       "      <td>0</td>\n",
       "      <td>0</td>\n",
       "      <td>0</td>\n",
       "    </tr>\n",
       "    <tr>\n",
       "      <th>1</th>\n",
       "      <td>120000</td>\n",
       "      <td>2</td>\n",
       "      <td>2</td>\n",
       "      <td>2</td>\n",
       "      <td>26</td>\n",
       "      <td>-1</td>\n",
       "      <td>2</td>\n",
       "      <td>0</td>\n",
       "      <td>0</td>\n",
       "      <td>0</td>\n",
       "      <td>...</td>\n",
       "      <td>2682</td>\n",
       "      <td>3272</td>\n",
       "      <td>3455</td>\n",
       "      <td>3261</td>\n",
       "      <td>0</td>\n",
       "      <td>1000</td>\n",
       "      <td>1000</td>\n",
       "      <td>1000</td>\n",
       "      <td>0</td>\n",
       "      <td>2000</td>\n",
       "    </tr>\n",
       "    <tr>\n",
       "      <th>2</th>\n",
       "      <td>90000</td>\n",
       "      <td>2</td>\n",
       "      <td>2</td>\n",
       "      <td>2</td>\n",
       "      <td>34</td>\n",
       "      <td>0</td>\n",
       "      <td>0</td>\n",
       "      <td>0</td>\n",
       "      <td>0</td>\n",
       "      <td>0</td>\n",
       "      <td>...</td>\n",
       "      <td>13559</td>\n",
       "      <td>14331</td>\n",
       "      <td>14948</td>\n",
       "      <td>15549</td>\n",
       "      <td>1518</td>\n",
       "      <td>1500</td>\n",
       "      <td>1000</td>\n",
       "      <td>1000</td>\n",
       "      <td>1000</td>\n",
       "      <td>5000</td>\n",
       "    </tr>\n",
       "    <tr>\n",
       "      <th>3</th>\n",
       "      <td>50000</td>\n",
       "      <td>2</td>\n",
       "      <td>2</td>\n",
       "      <td>1</td>\n",
       "      <td>37</td>\n",
       "      <td>0</td>\n",
       "      <td>0</td>\n",
       "      <td>0</td>\n",
       "      <td>0</td>\n",
       "      <td>0</td>\n",
       "      <td>...</td>\n",
       "      <td>49291</td>\n",
       "      <td>28314</td>\n",
       "      <td>28959</td>\n",
       "      <td>29547</td>\n",
       "      <td>2000</td>\n",
       "      <td>2019</td>\n",
       "      <td>1200</td>\n",
       "      <td>1100</td>\n",
       "      <td>1069</td>\n",
       "      <td>1000</td>\n",
       "    </tr>\n",
       "    <tr>\n",
       "      <th>4</th>\n",
       "      <td>50000</td>\n",
       "      <td>1</td>\n",
       "      <td>2</td>\n",
       "      <td>1</td>\n",
       "      <td>57</td>\n",
       "      <td>-1</td>\n",
       "      <td>0</td>\n",
       "      <td>-1</td>\n",
       "      <td>0</td>\n",
       "      <td>0</td>\n",
       "      <td>...</td>\n",
       "      <td>35835</td>\n",
       "      <td>20940</td>\n",
       "      <td>19146</td>\n",
       "      <td>19131</td>\n",
       "      <td>2000</td>\n",
       "      <td>36681</td>\n",
       "      <td>10000</td>\n",
       "      <td>9000</td>\n",
       "      <td>689</td>\n",
       "      <td>679</td>\n",
       "    </tr>\n",
       "  </tbody>\n",
       "</table>\n",
       "<p>5 rows × 23 columns</p>\n",
       "</div>"
      ],
      "text/plain": [
       "   LIMIT_BAL  SEX  EDUCATION  MARRIAGE  AGE  PAY_0  PAY_2  PAY_3  PAY_4  \\\n",
       "0      20000    2          2         1   24      2      2     -1     -1   \n",
       "1     120000    2          2         2   26     -1      2      0      0   \n",
       "2      90000    2          2         2   34      0      0      0      0   \n",
       "3      50000    2          2         1   37      0      0      0      0   \n",
       "4      50000    1          2         1   57     -1      0     -1      0   \n",
       "\n",
       "   PAY_5    ...     BILL_AMT3  BILL_AMT4  BILL_AMT5  BILL_AMT6  PAY_AMT1  \\\n",
       "0     -2    ...           689          0          0          0         0   \n",
       "1      0    ...          2682       3272       3455       3261         0   \n",
       "2      0    ...         13559      14331      14948      15549      1518   \n",
       "3      0    ...         49291      28314      28959      29547      2000   \n",
       "4      0    ...         35835      20940      19146      19131      2000   \n",
       "\n",
       "   PAY_AMT2  PAY_AMT3  PAY_AMT4  PAY_AMT5  PAY_AMT6  \n",
       "0       689         0         0         0         0  \n",
       "1      1000      1000      1000         0      2000  \n",
       "2      1500      1000      1000      1000      5000  \n",
       "3      2019      1200      1100      1069      1000  \n",
       "4     36681     10000      9000       689       679  \n",
       "\n",
       "[5 rows x 23 columns]"
      ]
     },
     "execution_count": 107,
     "metadata": {},
     "output_type": "execute_result"
    }
   ],
   "source": [
    "data1.head()"
   ]
  },
  {
   "cell_type": "code",
   "execution_count": 108,
   "metadata": {},
   "outputs": [],
   "source": [
    "#Extract feature names from the data\n",
    "feat = data1.keys()\n",
    "feat_labels = feat.get_values()"
   ]
  },
  {
   "cell_type": "code",
   "execution_count": 109,
   "metadata": {},
   "outputs": [],
   "source": [
    "#feat round(number[, ndigits]) -> number"
   ]
  },
  {
   "cell_type": "code",
   "execution_count": 110,
   "metadata": {},
   "outputs": [
    {
     "data": {
      "text/html": [
       "<div>\n",
       "<style scoped>\n",
       "    .dataframe tbody tr th:only-of-type {\n",
       "        vertical-align: middle;\n",
       "    }\n",
       "\n",
       "    .dataframe tbody tr th {\n",
       "        vertical-align: top;\n",
       "    }\n",
       "\n",
       "    .dataframe thead th {\n",
       "        text-align: right;\n",
       "    }\n",
       "</style>\n",
       "<table border=\"1\" class=\"dataframe\">\n",
       "  <thead>\n",
       "    <tr style=\"text-align: right;\">\n",
       "      <th></th>\n",
       "      <th>Feature</th>\n",
       "      <th>Feature importance</th>\n",
       "    </tr>\n",
       "  </thead>\n",
       "  <tbody>\n",
       "    <tr>\n",
       "      <th>5</th>\n",
       "      <td>PAY_0</td>\n",
       "      <td>0.100388</td>\n",
       "    </tr>\n",
       "    <tr>\n",
       "      <th>4</th>\n",
       "      <td>AGE</td>\n",
       "      <td>0.062715</td>\n",
       "    </tr>\n",
       "    <tr>\n",
       "      <th>0</th>\n",
       "      <td>LIMIT_BAL</td>\n",
       "      <td>0.062102</td>\n",
       "    </tr>\n",
       "    <tr>\n",
       "      <th>11</th>\n",
       "      <td>BILL_AMT1</td>\n",
       "      <td>0.061991</td>\n",
       "    </tr>\n",
       "    <tr>\n",
       "      <th>12</th>\n",
       "      <td>BILL_AMT2</td>\n",
       "      <td>0.054265</td>\n",
       "    </tr>\n",
       "    <tr>\n",
       "      <th>17</th>\n",
       "      <td>PAY_AMT1</td>\n",
       "      <td>0.052211</td>\n",
       "    </tr>\n",
       "    <tr>\n",
       "      <th>18</th>\n",
       "      <td>PAY_AMT2</td>\n",
       "      <td>0.051505</td>\n",
       "    </tr>\n",
       "    <tr>\n",
       "      <th>13</th>\n",
       "      <td>BILL_AMT3</td>\n",
       "      <td>0.050484</td>\n",
       "    </tr>\n",
       "    <tr>\n",
       "      <th>14</th>\n",
       "      <td>BILL_AMT4</td>\n",
       "      <td>0.049655</td>\n",
       "    </tr>\n",
       "    <tr>\n",
       "      <th>16</th>\n",
       "      <td>BILL_AMT6</td>\n",
       "      <td>0.049237</td>\n",
       "    </tr>\n",
       "    <tr>\n",
       "      <th>15</th>\n",
       "      <td>BILL_AMT5</td>\n",
       "      <td>0.049048</td>\n",
       "    </tr>\n",
       "    <tr>\n",
       "      <th>19</th>\n",
       "      <td>PAY_AMT3</td>\n",
       "      <td>0.048363</td>\n",
       "    </tr>\n",
       "    <tr>\n",
       "      <th>22</th>\n",
       "      <td>PAY_AMT6</td>\n",
       "      <td>0.046369</td>\n",
       "    </tr>\n",
       "    <tr>\n",
       "      <th>20</th>\n",
       "      <td>PAY_AMT4</td>\n",
       "      <td>0.044558</td>\n",
       "    </tr>\n",
       "    <tr>\n",
       "      <th>21</th>\n",
       "      <td>PAY_AMT5</td>\n",
       "      <td>0.043900</td>\n",
       "    </tr>\n",
       "    <tr>\n",
       "      <th>6</th>\n",
       "      <td>PAY_2</td>\n",
       "      <td>0.042219</td>\n",
       "    </tr>\n",
       "    <tr>\n",
       "      <th>7</th>\n",
       "      <td>PAY_3</td>\n",
       "      <td>0.028943</td>\n",
       "    </tr>\n",
       "    <tr>\n",
       "      <th>8</th>\n",
       "      <td>PAY_4</td>\n",
       "      <td>0.020876</td>\n",
       "    </tr>\n",
       "    <tr>\n",
       "      <th>2</th>\n",
       "      <td>EDUCATION</td>\n",
       "      <td>0.020485</td>\n",
       "    </tr>\n",
       "    <tr>\n",
       "      <th>9</th>\n",
       "      <td>PAY_5</td>\n",
       "      <td>0.019057</td>\n",
       "    </tr>\n",
       "    <tr>\n",
       "      <th>10</th>\n",
       "      <td>PAY_6</td>\n",
       "      <td>0.017595</td>\n",
       "    </tr>\n",
       "    <tr>\n",
       "      <th>3</th>\n",
       "      <td>MARRIAGE</td>\n",
       "      <td>0.012774</td>\n",
       "    </tr>\n",
       "    <tr>\n",
       "      <th>1</th>\n",
       "      <td>SEX</td>\n",
       "      <td>0.011263</td>\n",
       "    </tr>\n",
       "  </tbody>\n",
       "</table>\n",
       "</div>"
      ],
      "text/plain": [
       "      Feature  Feature importance\n",
       "5       PAY_0            0.100388\n",
       "4         AGE            0.062715\n",
       "0   LIMIT_BAL            0.062102\n",
       "11  BILL_AMT1            0.061991\n",
       "12  BILL_AMT2            0.054265\n",
       "17   PAY_AMT1            0.052211\n",
       "18   PAY_AMT2            0.051505\n",
       "13  BILL_AMT3            0.050484\n",
       "14  BILL_AMT4            0.049655\n",
       "16  BILL_AMT6            0.049237\n",
       "15  BILL_AMT5            0.049048\n",
       "19   PAY_AMT3            0.048363\n",
       "22   PAY_AMT6            0.046369\n",
       "20   PAY_AMT4            0.044558\n",
       "21   PAY_AMT5            0.043900\n",
       "6       PAY_2            0.042219\n",
       "7       PAY_3            0.028943\n",
       "8       PAY_4            0.020876\n",
       "2   EDUCATION            0.020485\n",
       "9       PAY_5            0.019057\n",
       "10      PAY_6            0.017595\n",
       "3    MARRIAGE            0.012774\n",
       "1         SEX            0.011263"
      ]
     },
     "execution_count": 110,
     "metadata": {},
     "output_type": "execute_result"
    }
   ],
   "source": [
    "featimp = pd.DataFrame({'Feature':feat_labels, 'Feature importance':rf.feature_importances_})\n",
    "featimp = featimp.sort_values(by='Feature importance', ascending=False)\n",
    "featimp"
   ]
  },
  {
   "cell_type": "code",
   "execution_count": 136,
   "metadata": {},
   "outputs": [],
   "source": [
    "#for feature in zip(feat_labels, rf.feature_importances_):\n",
    "#    print(feature)"
   ]
  },
  {
   "cell_type": "markdown",
   "metadata": {},
   "source": [
    "## Features Importance Analysis"
   ]
  },
  {
   "cell_type": "markdown",
   "metadata": {},
   "source": [
    "**From the above table:**\n",
    "\n",
    "- The latest credit card payment (PAY_0) is the strongest driver whether a borrower defaults or not.\n",
    "- Age, Limit_Bal and Bill_Amt1(the latest Bill amount) are the strongest drivers whether a borrower defaults or not.\n",
    "- Sex, Marriage, least recent payments (Pay_5, Pay_6, etc) and Education are least likely to influence a borrower's ability to pay"
   ]
  },
  {
   "cell_type": "markdown",
   "metadata": {},
   "source": [
    "## Analysis of Coefficients"
   ]
  },
  {
   "cell_type": "code",
   "execution_count": 122,
   "metadata": {},
   "outputs": [
    {
     "data": {
      "text/plain": [
       "Index(['LIMIT_BAL', 'SEX', 'EDUCATION', 'MARRIAGE', 'AGE', 'PAY_0', 'PAY_2',\n",
       "       'PAY_3', 'PAY_4', 'PAY_5', 'PAY_6', 'BILL_AMT1', 'BILL_AMT2',\n",
       "       'BILL_AMT3', 'BILL_AMT4', 'BILL_AMT5', 'BILL_AMT6', 'PAY_AMT1',\n",
       "       'PAY_AMT2', 'PAY_AMT3', 'PAY_AMT4', 'PAY_AMT5', 'PAY_AMT6',\n",
       "       'default payment next month'],\n",
       "      dtype='object')"
      ]
     },
     "execution_count": 122,
     "metadata": {},
     "output_type": "execute_result"
    }
   ],
   "source": [
    "data.columns"
   ]
  },
  {
   "cell_type": "code",
   "execution_count": 119,
   "metadata": {},
   "outputs": [
    {
     "name": "stdout",
     "output_type": "stream",
     "text": [
      "<class 'pandas.core.frame.DataFrame'>\n",
      "RangeIndex: 30000 entries, 0 to 29999\n",
      "Data columns (total 24 columns):\n",
      "LIMIT_BAL                     30000 non-null int64\n",
      "SEX                           30000 non-null int64\n",
      "EDUCATION                     30000 non-null int64\n",
      "MARRIAGE                      30000 non-null int64\n",
      "AGE                           30000 non-null int64\n",
      "PAY_0                         30000 non-null int64\n",
      "PAY_2                         30000 non-null int64\n",
      "PAY_3                         30000 non-null int64\n",
      "PAY_4                         30000 non-null int64\n",
      "PAY_5                         30000 non-null int64\n",
      "PAY_6                         30000 non-null int64\n",
      "BILL_AMT1                     30000 non-null int64\n",
      "BILL_AMT2                     30000 non-null int64\n",
      "BILL_AMT3                     30000 non-null int64\n",
      "BILL_AMT4                     30000 non-null int64\n",
      "BILL_AMT5                     30000 non-null int64\n",
      "BILL_AMT6                     30000 non-null int64\n",
      "PAY_AMT1                      30000 non-null int64\n",
      "PAY_AMT2                      30000 non-null int64\n",
      "PAY_AMT3                      30000 non-null int64\n",
      "PAY_AMT4                      30000 non-null int64\n",
      "PAY_AMT5                      30000 non-null int64\n",
      "PAY_AMT6                      30000 non-null int64\n",
      "default payment next month    30000 non-null int64\n",
      "dtypes: int64(24)\n",
      "memory usage: 5.5 MB\n"
     ]
    }
   ],
   "source": [
    "data.info()"
   ]
  },
  {
   "cell_type": "code",
   "execution_count": 118,
   "metadata": {},
   "outputs": [
    {
     "data": {
      "text/plain": [
       "array([[-0.10977135, -0.06881949, -0.07086903, -0.08121412,  0.07728664,\n",
       "         0.66866077,  0.11685571,  0.09392852,  0.01218743,  0.03716405,\n",
       "        -0.02544657, -0.34646903,  0.13104036,  0.10460286, -0.04311545,\n",
       "         0.08735401, -0.0118646 , -0.20625624, -0.19033779, -0.03948668,\n",
       "        -0.03702675, -0.03665665, -0.02033896]])"
      ]
     },
     "execution_count": 118,
     "metadata": {},
     "output_type": "execute_result"
    }
   ],
   "source": [
    "log = LogisticRegression(fit_intercept = False, C=10)\n",
    "fitm = log.fit(X_train, y_train)\n",
    "log.coef_"
   ]
  },
  {
   "cell_type": "markdown",
   "metadata": {},
   "source": [
    "- Generally, the higher the payments, the lower the lower the likelihood of default \n",
    "- The higher the bill amount, the higher the likelihood of default."
   ]
  },
  {
   "cell_type": "markdown",
   "metadata": {},
   "source": [
    "## Predicting Probabilities of Default of a Single borrower and Class (X_test)"
   ]
  },
  {
   "cell_type": "markdown",
   "metadata": {},
   "source": [
    "### Using Logistic Regression"
   ]
  },
  {
   "cell_type": "code",
   "execution_count": 16,
   "metadata": {},
   "outputs": [],
   "source": [
    "lr = LogisticRegression(C=0.1)\n",
    "lr.fit(X_train, y_train)\n",
    "y_pred_lr = lr.predict(X_test)"
   ]
  },
  {
   "cell_type": "markdown",
   "metadata": {},
   "source": [
    "#### Multiple Instances (many borrowers) Class Prediction"
   ]
  },
  {
   "cell_type": "code",
   "execution_count": 17,
   "metadata": {},
   "outputs": [
    {
     "data": {
      "text/plain": [
       "array([1, 0, 0, ..., 1, 1, 1], dtype=int64)"
      ]
     },
     "execution_count": 17,
     "metadata": {},
     "output_type": "execute_result"
    }
   ],
   "source": [
    "y_pred_lr"
   ]
  },
  {
   "cell_type": "code",
   "execution_count": 18,
   "metadata": {},
   "outputs": [],
   "source": [
    "# Writing to csv file to view the long list\n",
    "predictionlr = pd.DataFrame(y_pred_lr, columns=['Predictions']).to_csv('prediction.csv')"
   ]
  },
  {
   "cell_type": "markdown",
   "metadata": {},
   "source": [
    "#### Multiple Instances (many borrowers) Probability Prediction"
   ]
  },
  {
   "cell_type": "code",
   "execution_count": 19,
   "metadata": {},
   "outputs": [],
   "source": [
    "pred_prob = lr.predict_proba(X_test)"
   ]
  },
  {
   "cell_type": "code",
   "execution_count": 20,
   "metadata": {},
   "outputs": [
    {
     "data": {
      "text/plain": [
       "array([[0.4933426 , 0.5066574 ],\n",
       "       [0.52619857, 0.47380143],\n",
       "       [0.6520401 , 0.3479599 ],\n",
       "       ...,\n",
       "       [0.31015503, 0.68984497],\n",
       "       [0.30956711, 0.69043289],\n",
       "       [0.2558156 , 0.7441844 ]])"
      ]
     },
     "execution_count": 20,
     "metadata": {},
     "output_type": "execute_result"
    }
   ],
   "source": [
    "pred_prob"
   ]
  },
  {
   "cell_type": "code",
   "execution_count": 21,
   "metadata": {},
   "outputs": [],
   "source": [
    "# Writing to csv file to view the long list\n",
    "predictionprob = pd.DataFrame(pred_prob, columns=['NoDefault','Default']).to_csv('predprobabilities.csv')"
   ]
  },
  {
   "cell_type": "markdown",
   "metadata": {},
   "source": [
    "#### Single Instance (1 borrower) Class Prediction"
   ]
  },
  {
   "cell_type": "code",
   "execution_count": 22,
   "metadata": {},
   "outputs": [],
   "source": [
    "Xnew = [[500000,2,2,2,21,-1,-2,2,0,0,2,400000,450000,500000,600000,490000,485000,70000,35000,40000,21000,16000,15000]]"
   ]
  },
  {
   "cell_type": "code",
   "execution_count": 23,
   "metadata": {},
   "outputs": [],
   "source": [
    "Xnew = scaler.transform(Xnew)"
   ]
  },
  {
   "cell_type": "code",
   "execution_count": 32,
   "metadata": {},
   "outputs": [
    {
     "name": "stdout",
     "output_type": "stream",
     "text": [
      "X=[ 2.74055831  0.83450794  0.17518767  0.87307792 -1.55092458 -0.9722292\n",
      " -1.54596886  1.48105007  0.04492091  0.08891128  1.66493701  4.73225752\n",
      "  5.61519972  6.60247599  8.63083743  7.35242237  7.4645013   4.32013596\n",
      "  1.65084726  2.2120604   1.17941145  0.8398235   0.61540601], Predicted=0\n"
     ]
    }
   ],
   "source": [
    "ynew = lr.predict(Xnew)\n",
    "print(\"X=%s, Predicted=%s\" % (Xnew[0], ynew[0]))"
   ]
  },
  {
   "cell_type": "markdown",
   "metadata": {},
   "source": [
    "#### Single Instance (1 borrower) Probability Prediction"
   ]
  },
  {
   "cell_type": "code",
   "execution_count": 31,
   "metadata": {},
   "outputs": [
    {
     "name": "stdout",
     "output_type": "stream",
     "text": [
      "X=[ 2.74055831  0.83450794  0.17518767  0.87307792 -1.55092458 -0.9722292\n",
      " -1.54596886  1.48105007  0.04492091  0.08891128  1.66493701  4.73225752\n",
      "  5.61519972  6.60247599  8.63083743  7.35242237  7.4645013   4.32013596\n",
      "  1.65084726  2.2120604   1.17941145  0.8398235   0.61540601], Predicted=[0.93675677 0.06324323]\n"
     ]
    }
   ],
   "source": [
    "ynew = lr.predict_proba(Xnew)\n",
    "print(\"X=%s, Predicted=%s\" % (Xnew[0], ynew[0]))"
   ]
  },
  {
   "cell_type": "markdown",
   "metadata": {},
   "source": [
    "#### Further Example"
   ]
  },
  {
   "cell_type": "code",
   "execution_count": 26,
   "metadata": {},
   "outputs": [],
   "source": [
    "Xnew1 = [[20000,1,1,1,24,2,2,-1,-1,-2,-2,3913,3102,689,0,0,0,0,0,0,0,0,0]]"
   ]
  },
  {
   "cell_type": "code",
   "execution_count": 27,
   "metadata": {},
   "outputs": [],
   "source": [
    "Xnew1 = scaler.transform(Xnew1)"
   ]
  },
  {
   "cell_type": "code",
   "execution_count": 33,
   "metadata": {},
   "outputs": [
    {
     "name": "stdout",
     "output_type": "stream",
     "text": [
      "X=[-1.0663881  -1.19831094 -1.12972776 -1.03988793 -1.2308731   1.39240099\n",
      "  1.42186454 -0.76533099 -0.71671343 -1.47259448 -1.43479644 -0.63299717\n",
      " -0.64107069 -0.66911861 -0.66937658 -0.66038512 -0.65303942 -0.32486237\n",
      " -0.27492333 -0.28580798 -0.30044002 -0.30148018 -0.27903449], Predicted=1\n"
     ]
    }
   ],
   "source": [
    "ynew1 = lr.predict(Xnew1)\n",
    "print(\"X=%s, Predicted=%s\" % (Xnew1[0], ynew1[0]))"
   ]
  },
  {
   "cell_type": "code",
   "execution_count": 29,
   "metadata": {},
   "outputs": [
    {
     "name": "stdout",
     "output_type": "stream",
     "text": [
      "X=[-1.0663881  -1.19831094 -1.12972776 -1.03988793 -1.2308731   1.39240099\n",
      "  1.42186454 -0.76533099 -0.71671343 -1.47259448 -1.43479644 -0.63299717\n",
      " -0.64107069 -0.66911861 -0.66937658 -0.66038512 -0.65303942 -0.32486237\n",
      " -0.27492333 -0.28580798 -0.30044002 -0.30148018 -0.27903449], Predicted=[0.18796158 0.81203842]\n"
     ]
    }
   ],
   "source": [
    "ynew1 = lr.predict_proba(Xnew1)\n",
    "print(\"X=%s, Predicted=%s\" % (Xnew1[0], ynew1[0]))"
   ]
  },
  {
   "cell_type": "markdown",
   "metadata": {},
   "source": [
    "### Using Random Forest"
   ]
  },
  {
   "cell_type": "code",
   "execution_count": 35,
   "metadata": {},
   "outputs": [],
   "source": [
    "rf = RandomForestClassifier(n_estimators=400)\n",
    "rf.fit(X_train, y_train)\n",
    "y_pred_rf = lr.predict(X_test)"
   ]
  },
  {
   "cell_type": "markdown",
   "metadata": {},
   "source": [
    "#### Single Instance (1 borrower) Class Prediction"
   ]
  },
  {
   "cell_type": "code",
   "execution_count": 36,
   "metadata": {},
   "outputs": [],
   "source": [
    "Xnew = [[500000,2,2,2,21,-1,-2,2,0,0,2,400000,450000,500000,600000,490000,485000,70000,35000,40000,21000,16000,15000]]"
   ]
  },
  {
   "cell_type": "code",
   "execution_count": 37,
   "metadata": {},
   "outputs": [],
   "source": [
    "Xnew = scaler.transform(Xnew)"
   ]
  },
  {
   "cell_type": "code",
   "execution_count": 38,
   "metadata": {},
   "outputs": [
    {
     "name": "stdout",
     "output_type": "stream",
     "text": [
      "X=[ 2.74055831  0.83450794  0.17518767  0.87307792 -1.55092458 -0.9722292\n",
      " -1.54596886  1.48105007  0.04492091  0.08891128  1.66493701  4.73225752\n",
      "  5.61519972  6.60247599  8.63083743  7.35242237  7.4645013   4.32013596\n",
      "  1.65084726  2.2120604   1.17941145  0.8398235   0.61540601], Predicted=0\n"
     ]
    }
   ],
   "source": [
    "ynew = rf.predict(Xnew)\n",
    "print(\"X=%s, Predicted=%s\" % (Xnew[0], ynew[0]))"
   ]
  },
  {
   "cell_type": "markdown",
   "metadata": {},
   "source": [
    "#### Single Instance (1 borrower) Probability Prediction"
   ]
  },
  {
   "cell_type": "code",
   "execution_count": 39,
   "metadata": {},
   "outputs": [
    {
     "name": "stdout",
     "output_type": "stream",
     "text": [
      "X=[ 2.74055831  0.83450794  0.17518767  0.87307792 -1.55092458 -0.9722292\n",
      " -1.54596886  1.48105007  0.04492091  0.08891128  1.66493701  4.73225752\n",
      "  5.61519972  6.60247599  8.63083743  7.35242237  7.4645013   4.32013596\n",
      "  1.65084726  2.2120604   1.17941145  0.8398235   0.61540601], Predicted=[0.7825 0.2175]\n"
     ]
    }
   ],
   "source": [
    "ynew = rf.predict_proba(Xnew)\n",
    "print(\"X=%s, Predicted=%s\" % (Xnew[0], ynew[0]))"
   ]
  },
  {
   "cell_type": "markdown",
   "metadata": {},
   "source": [
    "#### Further Example"
   ]
  },
  {
   "cell_type": "code",
   "execution_count": 40,
   "metadata": {},
   "outputs": [],
   "source": [
    "Xnew1 = [[20000,1,1,1,24,2,2,-1,-1,-2,-2,3913,3102,689,0,0,0,0,0,0,0,0,0]]"
   ]
  },
  {
   "cell_type": "code",
   "execution_count": 41,
   "metadata": {},
   "outputs": [],
   "source": [
    "Xnew1 = scaler.transform(Xnew1)"
   ]
  },
  {
   "cell_type": "code",
   "execution_count": 42,
   "metadata": {},
   "outputs": [
    {
     "name": "stdout",
     "output_type": "stream",
     "text": [
      "X=[-1.0663881  -1.19831094 -1.12972776 -1.03988793 -1.2308731   1.39240099\n",
      "  1.42186454 -0.76533099 -0.71671343 -1.47259448 -1.43479644 -0.63299717\n",
      " -0.64107069 -0.66911861 -0.66937658 -0.66038512 -0.65303942 -0.32486237\n",
      " -0.27492333 -0.28580798 -0.30044002 -0.30148018 -0.27903449], Predicted=1\n"
     ]
    }
   ],
   "source": [
    "ynew1 = rf.predict(Xnew1)\n",
    "print(\"X=%s, Predicted=%s\" % (Xnew1[0], ynew1[0]))"
   ]
  },
  {
   "cell_type": "code",
   "execution_count": 43,
   "metadata": {},
   "outputs": [
    {
     "name": "stdout",
     "output_type": "stream",
     "text": [
      "X=[-1.0663881  -1.19831094 -1.12972776 -1.03988793 -1.2308731   1.39240099\n",
      "  1.42186454 -0.76533099 -0.71671343 -1.47259448 -1.43479644 -0.63299717\n",
      " -0.64107069 -0.66911861 -0.66937658 -0.66038512 -0.65303942 -0.32486237\n",
      " -0.27492333 -0.28580798 -0.30044002 -0.30148018 -0.27903449], Predicted=[0.1425 0.8575]\n"
     ]
    }
   ],
   "source": [
    "ynew1 = rf.predict_proba(Xnew1)\n",
    "print(\"X=%s, Predicted=%s\" % (Xnew1[0], ynew1[0]))"
   ]
  },
  {
   "cell_type": "markdown",
   "metadata": {},
   "source": [
    "** As expected, using both logistic regression and random forest, a customer not making payments (last five zeros) on her credit card is predicted to default (Class 1) with a probability of 81% (by logistic regression) and 86% (by random forest) whereas a customer making payments on her credit card is predicted not to default (Class 0) with a probability of about 94% (by LR)  and almost 80% (by RF) even though this customer is carrying a higher limit balance (500,000 vs. 20,000).**"
   ]
  },
  {
   "cell_type": "code",
   "execution_count": null,
   "metadata": {},
   "outputs": [],
   "source": []
  }
 ],
 "metadata": {
  "kernelspec": {
   "display_name": "Python 3",
   "language": "python",
   "name": "python3"
  },
  "language_info": {
   "codemirror_mode": {
    "name": "ipython",
    "version": 3
   },
   "file_extension": ".py",
   "mimetype": "text/x-python",
   "name": "python",
   "nbconvert_exporter": "python",
   "pygments_lexer": "ipython3",
   "version": "3.6.5"
  },
  "toc": {
   "base_numbering": 1,
   "nav_menu": {},
   "number_sections": true,
   "sideBar": true,
   "skip_h1_title": false,
   "title_cell": "Table of Contents",
   "title_sidebar": "Contents",
   "toc_cell": false,
   "toc_position": {},
   "toc_section_display": true,
   "toc_window_display": false
  }
 },
 "nbformat": 4,
 "nbformat_minor": 2
}
